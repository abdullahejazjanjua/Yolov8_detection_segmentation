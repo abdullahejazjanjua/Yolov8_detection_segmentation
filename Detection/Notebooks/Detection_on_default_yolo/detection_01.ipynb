{
  "cells": [
    {
      "cell_type": "code",
      "execution_count": null,
      "metadata": {
        "colab": {
          "base_uri": "https://localhost:8080/"
        },
        "id": "Gv_Wbz9xtz-Y",
        "outputId": "fca9dc09-dbdc-4e18-923e-ceb9cc90353f"
      },
      "outputs": [
        {
          "name": "stdout",
          "output_type": "stream",
          "text": [
            "Mounted at /content/drive\n"
          ]
        }
      ],
      "source": [
        "from google.colab import drive\n",
        "from google.colab.patches import cv2_imshow\n",
        "import cv2 as cv\n",
        "import torch\n",
        "import os\n",
        "from tqdm import tqdm\n",
        "drive.mount('/content/drive')"
      ]
    },
    {
      "cell_type": "code",
      "execution_count": null,
      "metadata": {
        "colab": {
          "base_uri": "https://localhost:8080/"
        },
        "id": "HU-m_KKyimjd",
        "outputId": "606b63fa-30ce-4ed8-f1e1-1440bfa69518"
      },
      "outputs": [
        {
          "name": "stdout",
          "output_type": "stream",
          "text": [
            "Collecting ultralytics\n",
            "  Downloading ultralytics-8.3.4-py3-none-any.whl.metadata (34 kB)\n",
            "Requirement already satisfied: numpy>=1.23.0 in /usr/local/lib/python3.10/dist-packages (from ultralytics) (1.26.4)\n",
            "Requirement already satisfied: matplotlib>=3.3.0 in /usr/local/lib/python3.10/dist-packages (from ultralytics) (3.7.1)\n",
            "Requirement already satisfied: opencv-python>=4.6.0 in /usr/local/lib/python3.10/dist-packages (from ultralytics) (4.10.0.84)\n",
            "Requirement already satisfied: pillow>=7.1.2 in /usr/local/lib/python3.10/dist-packages (from ultralytics) (10.4.0)\n",
            "Requirement already satisfied: pyyaml>=5.3.1 in /usr/local/lib/python3.10/dist-packages (from ultralytics) (6.0.2)\n",
            "Requirement already satisfied: requests>=2.23.0 in /usr/local/lib/python3.10/dist-packages (from ultralytics) (2.32.3)\n",
            "Requirement already satisfied: scipy>=1.4.1 in /usr/local/lib/python3.10/dist-packages (from ultralytics) (1.13.1)\n",
            "Requirement already satisfied: torch>=1.8.0 in /usr/local/lib/python3.10/dist-packages (from ultralytics) (2.4.1+cu121)\n",
            "Requirement already satisfied: torchvision>=0.9.0 in /usr/local/lib/python3.10/dist-packages (from ultralytics) (0.19.1+cu121)\n",
            "Requirement already satisfied: tqdm>=4.64.0 in /usr/local/lib/python3.10/dist-packages (from ultralytics) (4.66.5)\n",
            "Requirement already satisfied: psutil in /usr/local/lib/python3.10/dist-packages (from ultralytics) (5.9.5)\n",
            "Requirement already satisfied: py-cpuinfo in /usr/local/lib/python3.10/dist-packages (from ultralytics) (9.0.0)\n",
            "Requirement already satisfied: pandas>=1.1.4 in /usr/local/lib/python3.10/dist-packages (from ultralytics) (2.2.2)\n",
            "Requirement already satisfied: seaborn>=0.11.0 in /usr/local/lib/python3.10/dist-packages (from ultralytics) (0.13.1)\n",
            "Collecting ultralytics-thop>=2.0.0 (from ultralytics)\n",
            "  Downloading ultralytics_thop-2.0.8-py3-none-any.whl.metadata (9.3 kB)\n",
            "Requirement already satisfied: contourpy>=1.0.1 in /usr/local/lib/python3.10/dist-packages (from matplotlib>=3.3.0->ultralytics) (1.3.0)\n",
            "Requirement already satisfied: cycler>=0.10 in /usr/local/lib/python3.10/dist-packages (from matplotlib>=3.3.0->ultralytics) (0.12.1)\n",
            "Requirement already satisfied: fonttools>=4.22.0 in /usr/local/lib/python3.10/dist-packages (from matplotlib>=3.3.0->ultralytics) (4.54.1)\n",
            "Requirement already satisfied: kiwisolver>=1.0.1 in /usr/local/lib/python3.10/dist-packages (from matplotlib>=3.3.0->ultralytics) (1.4.7)\n",
            "Requirement already satisfied: packaging>=20.0 in /usr/local/lib/python3.10/dist-packages (from matplotlib>=3.3.0->ultralytics) (24.1)\n",
            "Requirement already satisfied: pyparsing>=2.3.1 in /usr/local/lib/python3.10/dist-packages (from matplotlib>=3.3.0->ultralytics) (3.1.4)\n",
            "Requirement already satisfied: python-dateutil>=2.7 in /usr/local/lib/python3.10/dist-packages (from matplotlib>=3.3.0->ultralytics) (2.8.2)\n",
            "Requirement already satisfied: pytz>=2020.1 in /usr/local/lib/python3.10/dist-packages (from pandas>=1.1.4->ultralytics) (2024.2)\n",
            "Requirement already satisfied: tzdata>=2022.7 in /usr/local/lib/python3.10/dist-packages (from pandas>=1.1.4->ultralytics) (2024.2)\n",
            "Requirement already satisfied: charset-normalizer<4,>=2 in /usr/local/lib/python3.10/dist-packages (from requests>=2.23.0->ultralytics) (3.3.2)\n",
            "Requirement already satisfied: idna<4,>=2.5 in /usr/local/lib/python3.10/dist-packages (from requests>=2.23.0->ultralytics) (3.10)\n",
            "Requirement already satisfied: urllib3<3,>=1.21.1 in /usr/local/lib/python3.10/dist-packages (from requests>=2.23.0->ultralytics) (2.2.3)\n",
            "Requirement already satisfied: certifi>=2017.4.17 in /usr/local/lib/python3.10/dist-packages (from requests>=2.23.0->ultralytics) (2024.8.30)\n",
            "Requirement already satisfied: filelock in /usr/local/lib/python3.10/dist-packages (from torch>=1.8.0->ultralytics) (3.16.1)\n",
            "Requirement already satisfied: typing-extensions>=4.8.0 in /usr/local/lib/python3.10/dist-packages (from torch>=1.8.0->ultralytics) (4.12.2)\n",
            "Requirement already satisfied: sympy in /usr/local/lib/python3.10/dist-packages (from torch>=1.8.0->ultralytics) (1.13.3)\n",
            "Requirement already satisfied: networkx in /usr/local/lib/python3.10/dist-packages (from torch>=1.8.0->ultralytics) (3.3)\n",
            "Requirement already satisfied: jinja2 in /usr/local/lib/python3.10/dist-packages (from torch>=1.8.0->ultralytics) (3.1.4)\n",
            "Requirement already satisfied: fsspec in /usr/local/lib/python3.10/dist-packages (from torch>=1.8.0->ultralytics) (2024.6.1)\n",
            "Requirement already satisfied: six>=1.5 in /usr/local/lib/python3.10/dist-packages (from python-dateutil>=2.7->matplotlib>=3.3.0->ultralytics) (1.16.0)\n",
            "Requirement already satisfied: MarkupSafe>=2.0 in /usr/local/lib/python3.10/dist-packages (from jinja2->torch>=1.8.0->ultralytics) (2.1.5)\n",
            "Requirement already satisfied: mpmath<1.4,>=1.1.0 in /usr/local/lib/python3.10/dist-packages (from sympy->torch>=1.8.0->ultralytics) (1.3.0)\n",
            "Downloading ultralytics-8.3.4-py3-none-any.whl (881 kB)\n",
            "\u001b[2K   \u001b[90m━━━━━━━━━━━━━━━━━━━━━━━━━━━━━━━━━━━━━━━━\u001b[0m \u001b[32m881.7/881.7 kB\u001b[0m \u001b[31m51.6 MB/s\u001b[0m eta \u001b[36m0:00:00\u001b[0m\n",
            "\u001b[?25hDownloading ultralytics_thop-2.0.8-py3-none-any.whl (26 kB)\n",
            "Installing collected packages: ultralytics-thop, ultralytics\n",
            "Successfully installed ultralytics-8.3.4 ultralytics-thop-2.0.8\n"
          ]
        }
      ],
      "source": [
        "!pip install ultralytics"
      ]
    },
    {
      "cell_type": "code",
      "execution_count": null,
      "metadata": {
        "colab": {
          "base_uri": "https://localhost:8080/"
        },
        "id": "ElbO5krBjlfV",
        "outputId": "750973aa-a165-4845-8b43-cf4d0223177b"
      },
      "outputs": [
        {
          "name": "stdout",
          "output_type": "stream",
          "text": [
            "Creating new Ultralytics Settings v0.0.6 file ✅ \n",
            "View Ultralytics Settings with 'yolo settings' or at '/root/.config/Ultralytics/settings.json'\n",
            "Update Settings with 'yolo settings key=value', i.e. 'yolo settings runs_dir=path/to/dir'. For help see https://docs.ultralytics.com/quickstart/#ultralytics-settings.\n"
          ]
        }
      ],
      "source": [
        "from ultralytics import YOLO"
      ]
    },
    {
      "cell_type": "code",
      "execution_count": null,
      "metadata": {
        "colab": {
          "base_uri": "https://localhost:8080/"
        },
        "id": "V41nhRxAjqnd",
        "outputId": "4cb86684-0e32-4c51-e407-b59067359a25"
      },
      "outputs": [
        {
          "name": "stdout",
          "output_type": "stream",
          "text": [
            "Training on cuda\n",
            "Downloading https://github.com/ultralytics/assets/releases/download/v8.3.0/yolov8n.pt to 'yolov8n.pt'...\n"
          ]
        },
        {
          "name": "stderr",
          "output_type": "stream",
          "text": [
            "100%|██████████| 6.25M/6.25M [00:00<00:00, 35.0MB/s]\n"
          ]
        }
      ],
      "source": [
        "device = 'cuda' if torch.cuda.is_available() else 'cpu'\n",
        "print(f'Training on {device}')\n",
        "\n",
        "model = YOLO('yolov8n.pt').to(device)"
      ]
    },
    {
      "cell_type": "code",
      "execution_count": null,
      "metadata": {
        "colab": {
          "base_uri": "https://localhost:8080/"
        },
        "collapsed": true,
        "id": "CNEPJG0skP_r",
        "outputId": "6f329bcc-6c15-49eb-c2cb-24cc5e5678da"
      },
      "outputs": [
        {
          "name": "stdout",
          "output_type": "stream",
          "text": [
            "layer                                     name  gradient   parameters                shape         mu      sigma\n",
            "    0                      model.0.conv.weight     False          432        [16, 3, 3, 3]   -0.00279      0.152 torch.float32\n",
            "    1                        model.0.bn.weight     False           16                 [16]       2.97       1.86 torch.float32\n",
            "    2                          model.0.bn.bias     False           16                 [16]      0.249       4.17 torch.float32\n",
            "    3                      model.1.conv.weight     False         4608       [32, 16, 3, 3]   -0.00012      0.063 torch.float32\n",
            "    4                        model.1.bn.weight     False           32                 [32]       5.02       1.12 torch.float32\n",
            "    5                          model.1.bn.bias     False           32                 [32]      0.942        1.5 torch.float32\n",
            "    6                  model.2.cv1.conv.weight     False         1024       [32, 32, 1, 1]     -0.011     0.0906 torch.float32\n",
            "    7                    model.2.cv1.bn.weight     False           32                 [32]       2.22       1.39 torch.float32\n",
            "    8                      model.2.cv1.bn.bias     False           32                 [32]      0.802       1.38 torch.float32\n",
            "    9                  model.2.cv2.conv.weight     False         1536       [32, 48, 1, 1]    -0.0045      0.082 torch.float32\n",
            "   10                    model.2.cv2.bn.weight     False           32                 [32]       1.21      0.581 torch.float32\n",
            "   11                      model.2.cv2.bn.bias     False           32                 [32]      0.544       1.12 torch.float32\n",
            "   12              model.2.m.0.cv1.conv.weight     False         2304       [16, 16, 3, 3]   -0.00119     0.0558 torch.float32\n",
            "   13                model.2.m.0.cv1.bn.weight     False           16                 [16]       2.36      0.719 torch.float32\n",
            "   14                  model.2.m.0.cv1.bn.bias     False           16                 [16]       1.03        1.7 torch.float32\n",
            "   15              model.2.m.0.cv2.conv.weight     False         2304       [16, 16, 3, 3]  -0.000189     0.0477 torch.float32\n",
            "   16                model.2.m.0.cv2.bn.weight     False           16                 [16]       2.11      0.513 torch.float32\n",
            "   17                  model.2.m.0.cv2.bn.bias     False           16                 [16]      0.919       1.89 torch.float32\n",
            "   18                      model.3.conv.weight     False        18432       [64, 32, 3, 3]   -0.00152     0.0317 torch.float32\n",
            "   19                        model.3.bn.weight     False           64                 [64]      0.817      0.207 torch.float32\n",
            "   20                          model.3.bn.bias     False           64                 [64]      0.253       0.93 torch.float32\n",
            "   21                  model.4.cv1.conv.weight     False         4096       [64, 64, 1, 1]   -0.00269     0.0534 torch.float32\n",
            "   22                    model.4.cv1.bn.weight     False           64                 [64]      0.819      0.361 torch.float32\n",
            "   23                      model.4.cv1.bn.bias     False           64                 [64]      0.261       0.78 torch.float32\n",
            "   24                  model.4.cv2.conv.weight     False         8192      [64, 128, 1, 1]   -0.00208     0.0456 torch.float32\n",
            "   25                    model.4.cv2.bn.weight     False           64                 [64]      0.712       0.21 torch.float32\n",
            "   26                      model.4.cv2.bn.bias     False           64                 [64]    -0.0523      0.753 torch.float32\n",
            "   27              model.4.m.0.cv1.conv.weight     False         9216       [32, 32, 3, 3]   -0.00148     0.0341 torch.float32\n",
            "   28                model.4.m.0.cv1.bn.weight     False           32                 [32]      0.748      0.155 torch.float32\n",
            "   29                  model.4.m.0.cv1.bn.bias     False           32                 [32]     -0.257      0.629 torch.float32\n",
            "   30              model.4.m.0.cv2.conv.weight     False         9216       [32, 32, 3, 3]   -0.00153     0.0316 torch.float32\n",
            "   31                model.4.m.0.cv2.bn.weight     False           32                 [32]      0.775        0.2 torch.float32\n",
            "   32                  model.4.m.0.cv2.bn.bias     False           32                 [32]      0.195      0.696 torch.float32\n",
            "   33              model.4.m.1.cv1.conv.weight     False         9216       [32, 32, 3, 3]   -0.00224      0.031 torch.float32\n",
            "   34                model.4.m.1.cv1.bn.weight     False           32                 [32]      0.682      0.106 torch.float32\n",
            "   35                  model.4.m.1.cv1.bn.bias     False           32                 [32]     -0.816      0.473 torch.float32\n",
            "   36              model.4.m.1.cv2.conv.weight     False         9216       [32, 32, 3, 3]   -0.00179     0.0276 torch.float32\n",
            "   37                model.4.m.1.cv2.bn.weight     False           32                 [32]       1.05      0.241 torch.float32\n",
            "   38                  model.4.m.1.cv2.bn.bias     False           32                 [32]      0.527      0.863 torch.float32\n",
            "   39                      model.5.conv.weight     False        73728      [128, 64, 3, 3]  -0.000401     0.0189 torch.float32\n",
            "   40                        model.5.bn.weight     False          128                [128]      0.822      0.231 torch.float32\n",
            "   41                          model.5.bn.bias     False          128                [128]     -0.233      0.677 torch.float32\n",
            "   42                  model.6.cv1.conv.weight     False        16384     [128, 128, 1, 1]   -0.00239     0.0326 torch.float32\n",
            "   43                    model.6.cv1.bn.weight     False          128                [128]      0.895        0.4 torch.float32\n",
            "   44                      model.6.cv1.bn.bias     False          128                [128]     -0.135      0.745 torch.float32\n",
            "   45                  model.6.cv2.conv.weight     False        32768     [128, 256, 1, 1]   -0.00184     0.0283 torch.float32\n",
            "   46                    model.6.cv2.bn.weight     False          128                [128]      0.769      0.206 torch.float32\n",
            "   47                      model.6.cv2.bn.bias     False          128                [128]     -0.588      0.754 torch.float32\n",
            "   48              model.6.m.0.cv1.conv.weight     False        36864       [64, 64, 3, 3]    -0.0015     0.0203 torch.float32\n",
            "   49                model.6.m.0.cv1.bn.weight     False           64                 [64]       1.06      0.177 torch.float32\n",
            "   50                  model.6.m.0.cv1.bn.bias     False           64                 [64]     -0.912        0.6 torch.float32\n",
            "   51              model.6.m.0.cv2.conv.weight     False        36864       [64, 64, 3, 3]   -0.00149     0.0188 torch.float32\n",
            "   52                model.6.m.0.cv2.bn.weight     False           64                 [64]      0.835      0.248 torch.float32\n",
            "   53                  model.6.m.0.cv2.bn.bias     False           64                 [64]    -0.0764      0.526 torch.float32\n",
            "   54              model.6.m.1.cv1.conv.weight     False        36864       [64, 64, 3, 3]   -0.00166     0.0192 torch.float32\n",
            "   55                model.6.m.1.cv1.bn.weight     False           64                 [64]      0.918      0.175 torch.float32\n",
            "   56                  model.6.m.1.cv1.bn.bias     False           64                 [64]      -1.13      0.734 torch.float32\n",
            "   57              model.6.m.1.cv2.conv.weight     False        36864       [64, 64, 3, 3]  -0.000996      0.018 torch.float32\n",
            "   58                model.6.m.1.cv2.bn.weight     False           64                 [64]       1.18      0.277 torch.float32\n",
            "   59                  model.6.m.1.cv2.bn.bias     False           64                 [64]      0.208      0.765 torch.float32\n",
            "   60                      model.7.conv.weight     False       294912     [256, 128, 3, 3]  -0.000505     0.0115 torch.float32\n",
            "   61                        model.7.bn.weight     False          256                [256]      0.961      0.196 torch.float32\n",
            "   62                          model.7.bn.bias     False          256                [256]     -0.718       0.45 torch.float32\n",
            "   63                  model.8.cv1.conv.weight     False        65536     [256, 256, 1, 1]   -0.00268     0.0204 torch.float32\n",
            "   64                    model.8.cv1.bn.weight     False          256                [256]       1.14       0.33 torch.float32\n",
            "   65                      model.8.cv1.bn.bias     False          256                [256]     -0.736      0.573 torch.float32\n",
            "   66                  model.8.cv2.conv.weight     False        98304     [256, 384, 1, 1]   -0.00162     0.0174 torch.float32\n",
            "   67                    model.8.cv2.bn.weight     False          256                [256]       1.19      0.223 torch.float32\n",
            "   68                      model.8.cv2.bn.bias     False          256                [256]     -0.689      0.484 torch.float32\n",
            "   69              model.8.m.0.cv1.conv.weight     False       147456     [128, 128, 3, 3]  -0.000843     0.0128 torch.float32\n",
            "   70                model.8.m.0.cv1.bn.weight     False          128                [128]       1.14      0.205 torch.float32\n",
            "   71                  model.8.m.0.cv1.bn.bias     False          128                [128]     -0.822      0.719 torch.float32\n",
            "   72              model.8.m.0.cv2.conv.weight     False       147456     [128, 128, 3, 3]   -0.00101     0.0124 torch.float32\n",
            "   73                model.8.m.0.cv2.bn.weight     False          128                [128]       1.65      0.368 torch.float32\n",
            "   74                  model.8.m.0.cv2.bn.bias     False          128                [128]     -0.199      0.607 torch.float32\n",
            "   75                  model.9.cv1.conv.weight     False        32768     [128, 256, 1, 1]   -0.00378     0.0238 torch.float32\n",
            "   76                    model.9.cv1.bn.weight     False          128                [128]      0.926      0.248 torch.float32\n",
            "   77                      model.9.cv1.bn.bias     False          128                [128]       1.43      0.657 torch.float32\n",
            "   78                  model.9.cv2.conv.weight     False       131072     [256, 512, 1, 1]    6.2e-05      0.015 torch.float32\n",
            "   79                    model.9.cv2.bn.weight     False          256                [256]      0.942      0.255 torch.float32\n",
            "   80                      model.9.cv2.bn.bias     False          256                [256]      -1.26       0.83 torch.float32\n",
            "   81                 model.12.cv1.conv.weight     False        49152     [128, 384, 1, 1]   -0.00209      0.023 torch.float32\n",
            "   82                   model.12.cv1.bn.weight     False          128                [128]      0.873      0.222 torch.float32\n",
            "   83                     model.12.cv1.bn.bias     False          128                [128]     -0.371      0.819 torch.float32\n",
            "   84                 model.12.cv2.conv.weight     False        24576     [128, 192, 1, 1]   -0.00362     0.0259 torch.float32\n",
            "   85                   model.12.cv2.bn.weight     False          128                [128]      0.739      0.198 torch.float32\n",
            "   86                     model.12.cv2.bn.bias     False          128                [128]     -0.271      0.661 torch.float32\n",
            "   87             model.12.m.0.cv1.conv.weight     False        36864       [64, 64, 3, 3]   -0.00153     0.0193 torch.float32\n",
            "   88               model.12.m.0.cv1.bn.weight     False           64                 [64]      0.833      0.138 torch.float32\n",
            "   89                 model.12.m.0.cv1.bn.bias     False           64                 [64]     -0.837       0.61 torch.float32\n",
            "   90             model.12.m.0.cv2.conv.weight     False        36864       [64, 64, 3, 3]  -0.000776     0.0179 torch.float32\n",
            "   91               model.12.m.0.cv2.bn.weight     False           64                 [64]      0.822      0.181 torch.float32\n",
            "   92                 model.12.m.0.cv2.bn.bias     False           64                 [64]     -0.106      0.635 torch.float32\n",
            "   93                 model.15.cv1.conv.weight     False        12288      [64, 192, 1, 1]   -0.00152     0.0297 torch.float32\n",
            "   94                   model.15.cv1.bn.weight     False           64                 [64]      0.541      0.214 torch.float32\n",
            "   95                     model.15.cv1.bn.bias     False           64                 [64]      0.166      0.965 torch.float32\n",
            "   96                 model.15.cv2.conv.weight     False         6144       [64, 96, 1, 1]  -0.000505     0.0346 torch.float32\n",
            "   97                   model.15.cv2.bn.weight     False           64                 [64]      0.567      0.264 torch.float32\n",
            "   98                     model.15.cv2.bn.bias     False           64                 [64]      0.134      0.946 torch.float32\n",
            "   99             model.15.m.0.cv1.conv.weight     False         9216       [32, 32, 3, 3]   -0.00172     0.0279 torch.float32\n",
            "  100               model.15.m.0.cv1.bn.weight     False           32                 [32]      0.663       0.14 torch.float32\n",
            "  101                 model.15.m.0.cv1.bn.bias     False           32                 [32]     -0.564      0.582 torch.float32\n",
            "  102             model.15.m.0.cv2.conv.weight     False         9216       [32, 32, 3, 3]  -0.000878     0.0261 torch.float32\n",
            "  103               model.15.m.0.cv2.bn.weight     False           32                 [32]      0.734      0.162 torch.float32\n",
            "  104                 model.15.m.0.cv2.bn.bias     False           32                 [32]      0.207      0.785 torch.float32\n",
            "  105                     model.16.conv.weight     False        36864       [64, 64, 3, 3]  -0.000385     0.0134 torch.float32\n",
            "  106                       model.16.bn.weight     False           64                 [64]      0.842      0.213 torch.float32\n",
            "  107                         model.16.bn.bias     False           64                 [64]     -0.388       0.59 torch.float32\n",
            "  108                 model.18.cv1.conv.weight     False        24576     [128, 192, 1, 1]   -0.00125     0.0212 torch.float32\n",
            "  109                   model.18.cv1.bn.weight     False          128                [128]      0.885      0.205 torch.float32\n",
            "  110                     model.18.cv1.bn.bias     False          128                [128]     -0.298      0.609 torch.float32\n",
            "  111                 model.18.cv2.conv.weight     False        24576     [128, 192, 1, 1]  -0.000884     0.0206 torch.float32\n",
            "  112                   model.18.cv2.bn.weight     False          128                [128]      0.734      0.292 torch.float32\n",
            "  113                     model.18.cv2.bn.bias     False          128                [128]     -0.427      0.761 torch.float32\n",
            "  114             model.18.m.0.cv1.conv.weight     False        36864       [64, 64, 3, 3]    -0.0014     0.0165 torch.float32\n",
            "  115               model.18.m.0.cv1.bn.weight     False           64                 [64]        0.8      0.177 torch.float32\n",
            "  116                 model.18.m.0.cv1.bn.bias     False           64                 [64]     -0.772       0.49 torch.float32\n",
            "  117             model.18.m.0.cv2.conv.weight     False        36864       [64, 64, 3, 3]  -0.000584     0.0152 torch.float32\n",
            "  118               model.18.m.0.cv2.bn.weight     False           64                 [64]       1.19      0.286 torch.float32\n",
            "  119                 model.18.m.0.cv2.bn.bias     False           64                 [64]    -0.0701      0.665 torch.float32\n",
            "  120                     model.19.conv.weight     False       147456     [128, 128, 3, 3]  -0.000376    0.00768 torch.float32\n",
            "  121                       model.19.bn.weight     False          128                [128]      0.877       0.21 torch.float32\n",
            "  122                         model.19.bn.bias     False          128                [128]     -0.507      0.364 torch.float32\n",
            "  123                 model.21.cv1.conv.weight     False        98304     [256, 384, 1, 1]   -0.00112     0.0124 torch.float32\n",
            "  124                   model.21.cv1.bn.weight     False          256                [256]       1.06      0.228 torch.float32\n",
            "  125                     model.21.cv1.bn.bias     False          256                [256]      -0.59      0.577 torch.float32\n",
            "  126                 model.21.cv2.conv.weight     False        98304     [256, 384, 1, 1]   -0.00096     0.0109 torch.float32\n",
            "  127                   model.21.cv2.bn.weight     False          256                [256]       1.04      0.317 torch.float32\n",
            "  128                     model.21.cv2.bn.bias     False          256                [256]      -0.89      0.489 torch.float32\n",
            "  129             model.21.m.0.cv1.conv.weight     False       147456     [128, 128, 3, 3]  -0.000713    0.00903 torch.float32\n",
            "  130               model.21.m.0.cv1.bn.weight     False          128                [128]       1.03      0.223 torch.float32\n",
            "  131                 model.21.m.0.cv1.bn.bias     False          128                [128]      -0.96      0.617 torch.float32\n",
            "  132             model.21.m.0.cv2.conv.weight     False       147456     [128, 128, 3, 3]   -0.00042     0.0083 torch.float32\n",
            "  133               model.21.m.0.cv2.bn.weight     False          128                [128]       1.36      0.252 torch.float32\n",
            "  134                 model.21.m.0.cv2.bn.bias     False          128                [128]      -0.55      0.517 torch.float32\n",
            "  135             model.22.cv2.0.0.conv.weight     False        36864       [64, 64, 3, 3]  -0.000871     0.0138 torch.float32\n",
            "  136               model.22.cv2.0.0.bn.weight     False           64                 [64]      0.882      0.357 torch.float32\n",
            "  137                 model.22.cv2.0.0.bn.bias     False           64                 [64]     -0.501      0.702 torch.float32\n",
            "  138             model.22.cv2.0.1.conv.weight     False        36864       [64, 64, 3, 3]  -0.000302     0.0121 torch.float32\n",
            "  139               model.22.cv2.0.1.bn.weight     False           64                 [64]       2.41       1.04 torch.float32\n",
            "  140                 model.22.cv2.0.1.bn.bias     False           64                 [64]      0.923      0.752 torch.float32\n",
            "  141                  model.22.cv2.0.2.weight     False         4096       [64, 64, 1, 1]   5.55e-07     0.0503 torch.float32\n",
            "  142                    model.22.cv2.0.2.bias     False           64                 [64]          1       1.39 torch.float32\n",
            "  143             model.22.cv2.1.0.conv.weight     False        73728      [64, 128, 3, 3]  -0.000461    0.00909 torch.float32\n",
            "  144               model.22.cv2.1.0.bn.weight     False           64                 [64]       1.29      0.492 torch.float32\n",
            "  145                 model.22.cv2.1.0.bn.bias     False           64                 [64]     -0.394      0.673 torch.float32\n",
            "  146             model.22.cv2.1.1.conv.weight     False        36864       [64, 64, 3, 3]  -0.000135     0.0113 torch.float32\n",
            "  147               model.22.cv2.1.1.bn.weight     False           64                 [64]       2.56          1 torch.float32\n",
            "  148                 model.22.cv2.1.1.bn.bias     False           64                 [64]      0.856      0.562 torch.float32\n",
            "  149                  model.22.cv2.1.2.weight     False         4096       [64, 64, 1, 1]  -4.08e-07     0.0548 torch.float32\n",
            "  150                    model.22.cv2.1.2.bias     False           64                 [64]      0.999       1.31 torch.float32\n",
            "  151             model.22.cv2.2.0.conv.weight     False       147456      [64, 256, 3, 3]  -0.000226    0.00654 torch.float32\n",
            "  152               model.22.cv2.2.0.bn.weight     False           64                 [64]       1.55      0.415 torch.float32\n",
            "  153                 model.22.cv2.2.0.bn.bias     False           64                 [64]     -0.257      0.617 torch.float32\n",
            "  154             model.22.cv2.2.1.conv.weight     False        36864       [64, 64, 3, 3]  -0.000172     0.0105 torch.float32\n",
            "  155               model.22.cv2.2.1.bn.weight     False           64                 [64]       2.95      0.853 torch.float32\n",
            "  156                 model.22.cv2.2.1.bn.bias     False           64                 [64]      0.826      0.555 torch.float32\n",
            "  157                  model.22.cv2.2.2.weight     False         4096       [64, 64, 1, 1]   5.78e-06     0.0593 torch.float32\n",
            "  158                    model.22.cv2.2.2.bias     False           64                 [64]          1       1.32 torch.float32\n",
            "  159             model.22.cv3.0.0.conv.weight     False        46080       [80, 64, 3, 3]  -0.000739     0.0119 torch.float32\n",
            "  160               model.22.cv3.0.0.bn.weight     False           80                 [80]      0.697      0.247 torch.float32\n",
            "  161                 model.22.cv3.0.0.bn.bias     False           80                 [80]      -0.58      0.767 torch.float32\n",
            "  162             model.22.cv3.0.1.conv.weight     False        57600       [80, 80, 3, 3]  -0.000899       0.01 torch.float32\n",
            "  163               model.22.cv3.0.1.bn.weight     False           80                 [80]       2.75      0.655 torch.float32\n",
            "  164                 model.22.cv3.0.1.bn.bias     False           80                 [80]       1.34       1.83 torch.float32\n",
            "  165                  model.22.cv3.0.2.weight     False         6400       [80, 80, 1, 1]    -0.0123     0.0532 torch.float32\n",
            "  166                    model.22.cv3.0.2.bias     False           80                 [80]      -11.4       1.11 torch.float32\n",
            "  167             model.22.cv3.1.0.conv.weight     False        92160      [80, 128, 3, 3]  -0.000437    0.00858 torch.float32\n",
            "  168               model.22.cv3.1.0.bn.weight     False           80                 [80]      0.872       0.28 torch.float32\n",
            "  169                 model.22.cv3.1.0.bn.bias     False           80                 [80]     -0.411      0.884 torch.float32\n",
            "  170             model.22.cv3.1.1.conv.weight     False        57600       [80, 80, 3, 3]  -0.000971    0.00925 torch.float32\n",
            "  171               model.22.cv3.1.1.bn.weight     False           80                 [80]       2.85       1.26 torch.float32\n",
            "  172                 model.22.cv3.1.1.bn.bias     False           80                 [80]       1.28       1.45 torch.float32\n",
            "  173                  model.22.cv3.1.2.weight     False         6400       [80, 80, 1, 1]    -0.0114     0.0527 torch.float32\n",
            "  174                    model.22.cv3.1.2.bias     False           80                 [80]      -10.5      0.911 torch.float32\n",
            "  175             model.22.cv3.2.0.conv.weight     False       184320      [80, 256, 3, 3]  -0.000242    0.00608 torch.float32\n",
            "  176               model.22.cv3.2.0.bn.weight     False           80                 [80]       1.12      0.328 torch.float32\n",
            "  177                 model.22.cv3.2.0.bn.bias     False           80                 [80]     -0.289      0.942 torch.float32\n",
            "  178             model.22.cv3.2.1.conv.weight     False        57600       [80, 80, 3, 3]   -0.00099    0.00803 torch.float32\n",
            "  179               model.22.cv3.2.1.bn.weight     False           80                 [80]       3.15       1.28 torch.float32\n",
            "  180                 model.22.cv3.2.1.bn.bias     False           80                 [80]       1.28       1.32 torch.float32\n",
            "  181                  model.22.cv3.2.2.weight     False         6400       [80, 80, 1, 1]    -0.0105     0.0502 torch.float32\n",
            "  182                    model.22.cv3.2.2.bias     False           80                 [80]      -9.61      0.937 torch.float32\n",
            "  183                 model.22.dfl.conv.weight     False           16        [1, 16, 1, 1]        7.5       4.76 torch.float32\n",
            "YOLOv8n summary: 225 layers, 3,157,200 parameters, 0 gradients, 8.9 GFLOPs\n"
          ]
        },
        {
          "data": {
            "text/plain": [
              "(225, 3157200, 0, 8.8575488)"
            ]
          },
          "execution_count": 11,
          "metadata": {},
          "output_type": "execute_result"
        }
      ],
      "source": [
        "model.info(True)"
      ]
    },
    {
      "cell_type": "code",
      "execution_count": null,
      "metadata": {
        "colab": {
          "base_uri": "https://localhost:8080/"
        },
        "collapsed": true,
        "id": "VKZ2mYopmLAc",
        "outputId": "7dfe2678-c19b-48ca-a3c1-6c1f34703655"
      },
      "outputs": [
        {
          "name": "stdout",
          "output_type": "stream",
          "text": [
            "Training: model.model.22.cv2.0.0.conv.weight\n",
            "Training: model.model.22.cv2.0.0.bn.weight\n",
            "Training: model.model.22.cv2.0.0.bn.bias\n",
            "Training: model.model.22.cv2.0.1.conv.weight\n",
            "Training: model.model.22.cv2.0.1.bn.weight\n",
            "Training: model.model.22.cv2.0.1.bn.bias\n",
            "Training: model.model.22.cv2.0.2.weight\n",
            "Training: model.model.22.cv2.0.2.bias\n",
            "Training: model.model.22.cv2.1.0.conv.weight\n",
            "Training: model.model.22.cv2.1.0.bn.weight\n",
            "Training: model.model.22.cv2.1.0.bn.bias\n",
            "Training: model.model.22.cv2.1.1.conv.weight\n",
            "Training: model.model.22.cv2.1.1.bn.weight\n",
            "Training: model.model.22.cv2.1.1.bn.bias\n",
            "Training: model.model.22.cv2.1.2.weight\n",
            "Training: model.model.22.cv2.1.2.bias\n",
            "Training: model.model.22.cv2.2.0.conv.weight\n",
            "Training: model.model.22.cv2.2.0.bn.weight\n",
            "Training: model.model.22.cv2.2.0.bn.bias\n",
            "Training: model.model.22.cv2.2.1.conv.weight\n",
            "Training: model.model.22.cv2.2.1.bn.weight\n",
            "Training: model.model.22.cv2.2.1.bn.bias\n",
            "Training: model.model.22.cv2.2.2.weight\n",
            "Training: model.model.22.cv2.2.2.bias\n",
            "Training: model.model.22.cv3.0.0.conv.weight\n",
            "Training: model.model.22.cv3.0.0.bn.weight\n",
            "Training: model.model.22.cv3.0.0.bn.bias\n",
            "Training: model.model.22.cv3.0.1.conv.weight\n",
            "Training: model.model.22.cv3.0.1.bn.weight\n",
            "Training: model.model.22.cv3.0.1.bn.bias\n",
            "Training: model.model.22.cv3.0.2.weight\n",
            "Training: model.model.22.cv3.0.2.bias\n",
            "Training: model.model.22.cv3.1.0.conv.weight\n",
            "Training: model.model.22.cv3.1.0.bn.weight\n",
            "Training: model.model.22.cv3.1.0.bn.bias\n",
            "Training: model.model.22.cv3.1.1.conv.weight\n",
            "Training: model.model.22.cv3.1.1.bn.weight\n",
            "Training: model.model.22.cv3.1.1.bn.bias\n",
            "Training: model.model.22.cv3.1.2.weight\n",
            "Training: model.model.22.cv3.1.2.bias\n",
            "Training: model.model.22.cv3.2.0.conv.weight\n",
            "Training: model.model.22.cv3.2.0.bn.weight\n",
            "Training: model.model.22.cv3.2.0.bn.bias\n",
            "Training: model.model.22.cv3.2.1.conv.weight\n",
            "Training: model.model.22.cv3.2.1.bn.weight\n",
            "Training: model.model.22.cv3.2.1.bn.bias\n",
            "Training: model.model.22.cv3.2.2.weight\n",
            "Training: model.model.22.cv3.2.2.bias\n",
            "Training: model.model.22.dfl.conv.weight\n"
          ]
        }
      ],
      "source": [
        "for name, param in model.named_parameters():\n",
        "        if 'model.22' not in name:  # Assuming the detect module is model.22\n",
        "            param.requires_grad = False\n",
        "        else:\n",
        "            print(f\"Training: {name}\")"
      ]
    },
    {
      "cell_type": "code",
      "execution_count": null,
      "metadata": {
        "colab": {
          "base_uri": "https://localhost:8080/"
        },
        "collapsed": true,
        "id": "vcXmD5dSBbf_",
        "outputId": "9ee0fab2-90f3-474c-a052-5473b6ff5934"
      },
      "outputs": [
        {
          "name": "stdout",
          "output_type": "stream",
          "text": [
            "layer                                     name  gradient   parameters                shape         mu      sigma\n",
            "    0                      model.0.conv.weight     False          432        [16, 3, 3, 3]   -0.00279      0.152 torch.float32\n",
            "    1                        model.0.bn.weight     False           16                 [16]       2.97       1.86 torch.float32\n",
            "    2                          model.0.bn.bias     False           16                 [16]      0.249       4.17 torch.float32\n",
            "    3                      model.1.conv.weight     False         4608       [32, 16, 3, 3]   -0.00012      0.063 torch.float32\n",
            "    4                        model.1.bn.weight     False           32                 [32]       5.02       1.12 torch.float32\n",
            "    5                          model.1.bn.bias     False           32                 [32]      0.942        1.5 torch.float32\n",
            "    6                  model.2.cv1.conv.weight     False         1024       [32, 32, 1, 1]     -0.011     0.0906 torch.float32\n",
            "    7                    model.2.cv1.bn.weight     False           32                 [32]       2.22       1.39 torch.float32\n",
            "    8                      model.2.cv1.bn.bias     False           32                 [32]      0.802       1.38 torch.float32\n",
            "    9                  model.2.cv2.conv.weight     False         1536       [32, 48, 1, 1]    -0.0045      0.082 torch.float32\n",
            "   10                    model.2.cv2.bn.weight     False           32                 [32]       1.21      0.581 torch.float32\n",
            "   11                      model.2.cv2.bn.bias     False           32                 [32]      0.544       1.12 torch.float32\n",
            "   12              model.2.m.0.cv1.conv.weight     False         2304       [16, 16, 3, 3]   -0.00119     0.0558 torch.float32\n",
            "   13                model.2.m.0.cv1.bn.weight     False           16                 [16]       2.36      0.719 torch.float32\n",
            "   14                  model.2.m.0.cv1.bn.bias     False           16                 [16]       1.03        1.7 torch.float32\n",
            "   15              model.2.m.0.cv2.conv.weight     False         2304       [16, 16, 3, 3]  -0.000189     0.0477 torch.float32\n",
            "   16                model.2.m.0.cv2.bn.weight     False           16                 [16]       2.11      0.513 torch.float32\n",
            "   17                  model.2.m.0.cv2.bn.bias     False           16                 [16]      0.919       1.89 torch.float32\n",
            "   18                      model.3.conv.weight     False        18432       [64, 32, 3, 3]   -0.00152     0.0317 torch.float32\n",
            "   19                        model.3.bn.weight     False           64                 [64]      0.817      0.207 torch.float32\n",
            "   20                          model.3.bn.bias     False           64                 [64]      0.253       0.93 torch.float32\n",
            "   21                  model.4.cv1.conv.weight     False         4096       [64, 64, 1, 1]   -0.00269     0.0534 torch.float32\n",
            "   22                    model.4.cv1.bn.weight     False           64                 [64]      0.819      0.361 torch.float32\n",
            "   23                      model.4.cv1.bn.bias     False           64                 [64]      0.261       0.78 torch.float32\n",
            "   24                  model.4.cv2.conv.weight     False         8192      [64, 128, 1, 1]   -0.00208     0.0456 torch.float32\n",
            "   25                    model.4.cv2.bn.weight     False           64                 [64]      0.712       0.21 torch.float32\n",
            "   26                      model.4.cv2.bn.bias     False           64                 [64]    -0.0523      0.753 torch.float32\n",
            "   27              model.4.m.0.cv1.conv.weight     False         9216       [32, 32, 3, 3]   -0.00148     0.0341 torch.float32\n",
            "   28                model.4.m.0.cv1.bn.weight     False           32                 [32]      0.748      0.155 torch.float32\n",
            "   29                  model.4.m.0.cv1.bn.bias     False           32                 [32]     -0.257      0.629 torch.float32\n",
            "   30              model.4.m.0.cv2.conv.weight     False         9216       [32, 32, 3, 3]   -0.00153     0.0316 torch.float32\n",
            "   31                model.4.m.0.cv2.bn.weight     False           32                 [32]      0.775        0.2 torch.float32\n",
            "   32                  model.4.m.0.cv2.bn.bias     False           32                 [32]      0.195      0.696 torch.float32\n",
            "   33              model.4.m.1.cv1.conv.weight     False         9216       [32, 32, 3, 3]   -0.00224      0.031 torch.float32\n",
            "   34                model.4.m.1.cv1.bn.weight     False           32                 [32]      0.682      0.106 torch.float32\n",
            "   35                  model.4.m.1.cv1.bn.bias     False           32                 [32]     -0.816      0.473 torch.float32\n",
            "   36              model.4.m.1.cv2.conv.weight     False         9216       [32, 32, 3, 3]   -0.00179     0.0276 torch.float32\n",
            "   37                model.4.m.1.cv2.bn.weight     False           32                 [32]       1.05      0.241 torch.float32\n",
            "   38                  model.4.m.1.cv2.bn.bias     False           32                 [32]      0.527      0.863 torch.float32\n",
            "   39                      model.5.conv.weight     False        73728      [128, 64, 3, 3]  -0.000401     0.0189 torch.float32\n",
            "   40                        model.5.bn.weight     False          128                [128]      0.822      0.231 torch.float32\n",
            "   41                          model.5.bn.bias     False          128                [128]     -0.233      0.677 torch.float32\n",
            "   42                  model.6.cv1.conv.weight     False        16384     [128, 128, 1, 1]   -0.00239     0.0326 torch.float32\n",
            "   43                    model.6.cv1.bn.weight     False          128                [128]      0.895        0.4 torch.float32\n",
            "   44                      model.6.cv1.bn.bias     False          128                [128]     -0.135      0.745 torch.float32\n",
            "   45                  model.6.cv2.conv.weight     False        32768     [128, 256, 1, 1]   -0.00184     0.0283 torch.float32\n",
            "   46                    model.6.cv2.bn.weight     False          128                [128]      0.769      0.206 torch.float32\n",
            "   47                      model.6.cv2.bn.bias     False          128                [128]     -0.588      0.754 torch.float32\n",
            "   48              model.6.m.0.cv1.conv.weight     False        36864       [64, 64, 3, 3]    -0.0015     0.0203 torch.float32\n",
            "   49                model.6.m.0.cv1.bn.weight     False           64                 [64]       1.06      0.177 torch.float32\n",
            "   50                  model.6.m.0.cv1.bn.bias     False           64                 [64]     -0.912        0.6 torch.float32\n",
            "   51              model.6.m.0.cv2.conv.weight     False        36864       [64, 64, 3, 3]   -0.00149     0.0188 torch.float32\n",
            "   52                model.6.m.0.cv2.bn.weight     False           64                 [64]      0.835      0.248 torch.float32\n",
            "   53                  model.6.m.0.cv2.bn.bias     False           64                 [64]    -0.0764      0.526 torch.float32\n",
            "   54              model.6.m.1.cv1.conv.weight     False        36864       [64, 64, 3, 3]   -0.00166     0.0192 torch.float32\n",
            "   55                model.6.m.1.cv1.bn.weight     False           64                 [64]      0.918      0.175 torch.float32\n",
            "   56                  model.6.m.1.cv1.bn.bias     False           64                 [64]      -1.13      0.734 torch.float32\n",
            "   57              model.6.m.1.cv2.conv.weight     False        36864       [64, 64, 3, 3]  -0.000996      0.018 torch.float32\n",
            "   58                model.6.m.1.cv2.bn.weight     False           64                 [64]       1.18      0.277 torch.float32\n",
            "   59                  model.6.m.1.cv2.bn.bias     False           64                 [64]      0.208      0.765 torch.float32\n",
            "   60                      model.7.conv.weight     False       294912     [256, 128, 3, 3]  -0.000505     0.0115 torch.float32\n",
            "   61                        model.7.bn.weight     False          256                [256]      0.961      0.196 torch.float32\n",
            "   62                          model.7.bn.bias     False          256                [256]     -0.718       0.45 torch.float32\n",
            "   63                  model.8.cv1.conv.weight     False        65536     [256, 256, 1, 1]   -0.00268     0.0204 torch.float32\n",
            "   64                    model.8.cv1.bn.weight     False          256                [256]       1.14       0.33 torch.float32\n",
            "   65                      model.8.cv1.bn.bias     False          256                [256]     -0.736      0.573 torch.float32\n",
            "   66                  model.8.cv2.conv.weight     False        98304     [256, 384, 1, 1]   -0.00162     0.0174 torch.float32\n",
            "   67                    model.8.cv2.bn.weight     False          256                [256]       1.19      0.223 torch.float32\n",
            "   68                      model.8.cv2.bn.bias     False          256                [256]     -0.689      0.484 torch.float32\n",
            "   69              model.8.m.0.cv1.conv.weight     False       147456     [128, 128, 3, 3]  -0.000843     0.0128 torch.float32\n",
            "   70                model.8.m.0.cv1.bn.weight     False          128                [128]       1.14      0.205 torch.float32\n",
            "   71                  model.8.m.0.cv1.bn.bias     False          128                [128]     -0.822      0.719 torch.float32\n",
            "   72              model.8.m.0.cv2.conv.weight     False       147456     [128, 128, 3, 3]   -0.00101     0.0124 torch.float32\n",
            "   73                model.8.m.0.cv2.bn.weight     False          128                [128]       1.65      0.368 torch.float32\n",
            "   74                  model.8.m.0.cv2.bn.bias     False          128                [128]     -0.199      0.607 torch.float32\n",
            "   75                  model.9.cv1.conv.weight     False        32768     [128, 256, 1, 1]   -0.00378     0.0238 torch.float32\n",
            "   76                    model.9.cv1.bn.weight     False          128                [128]      0.926      0.248 torch.float32\n",
            "   77                      model.9.cv1.bn.bias     False          128                [128]       1.43      0.657 torch.float32\n",
            "   78                  model.9.cv2.conv.weight     False       131072     [256, 512, 1, 1]    6.2e-05      0.015 torch.float32\n",
            "   79                    model.9.cv2.bn.weight     False          256                [256]      0.942      0.255 torch.float32\n",
            "   80                      model.9.cv2.bn.bias     False          256                [256]      -1.26       0.83 torch.float32\n",
            "   81                 model.12.cv1.conv.weight     False        49152     [128, 384, 1, 1]   -0.00209      0.023 torch.float32\n",
            "   82                   model.12.cv1.bn.weight     False          128                [128]      0.873      0.222 torch.float32\n",
            "   83                     model.12.cv1.bn.bias     False          128                [128]     -0.371      0.819 torch.float32\n",
            "   84                 model.12.cv2.conv.weight     False        24576     [128, 192, 1, 1]   -0.00362     0.0259 torch.float32\n",
            "   85                   model.12.cv2.bn.weight     False          128                [128]      0.739      0.198 torch.float32\n",
            "   86                     model.12.cv2.bn.bias     False          128                [128]     -0.271      0.661 torch.float32\n",
            "   87             model.12.m.0.cv1.conv.weight     False        36864       [64, 64, 3, 3]   -0.00153     0.0193 torch.float32\n",
            "   88               model.12.m.0.cv1.bn.weight     False           64                 [64]      0.833      0.138 torch.float32\n",
            "   89                 model.12.m.0.cv1.bn.bias     False           64                 [64]     -0.837       0.61 torch.float32\n",
            "   90             model.12.m.0.cv2.conv.weight     False        36864       [64, 64, 3, 3]  -0.000776     0.0179 torch.float32\n",
            "   91               model.12.m.0.cv2.bn.weight     False           64                 [64]      0.822      0.181 torch.float32\n",
            "   92                 model.12.m.0.cv2.bn.bias     False           64                 [64]     -0.106      0.635 torch.float32\n",
            "   93                 model.15.cv1.conv.weight     False        12288      [64, 192, 1, 1]   -0.00152     0.0297 torch.float32\n",
            "   94                   model.15.cv1.bn.weight     False           64                 [64]      0.541      0.214 torch.float32\n",
            "   95                     model.15.cv1.bn.bias     False           64                 [64]      0.166      0.965 torch.float32\n",
            "   96                 model.15.cv2.conv.weight     False         6144       [64, 96, 1, 1]  -0.000505     0.0346 torch.float32\n",
            "   97                   model.15.cv2.bn.weight     False           64                 [64]      0.567      0.264 torch.float32\n",
            "   98                     model.15.cv2.bn.bias     False           64                 [64]      0.134      0.946 torch.float32\n",
            "   99             model.15.m.0.cv1.conv.weight     False         9216       [32, 32, 3, 3]   -0.00172     0.0279 torch.float32\n",
            "  100               model.15.m.0.cv1.bn.weight     False           32                 [32]      0.663       0.14 torch.float32\n",
            "  101                 model.15.m.0.cv1.bn.bias     False           32                 [32]     -0.564      0.582 torch.float32\n",
            "  102             model.15.m.0.cv2.conv.weight     False         9216       [32, 32, 3, 3]  -0.000878     0.0261 torch.float32\n",
            "  103               model.15.m.0.cv2.bn.weight     False           32                 [32]      0.734      0.162 torch.float32\n",
            "  104                 model.15.m.0.cv2.bn.bias     False           32                 [32]      0.207      0.785 torch.float32\n",
            "  105                     model.16.conv.weight     False        36864       [64, 64, 3, 3]  -0.000385     0.0134 torch.float32\n",
            "  106                       model.16.bn.weight     False           64                 [64]      0.842      0.213 torch.float32\n",
            "  107                         model.16.bn.bias     False           64                 [64]     -0.388       0.59 torch.float32\n",
            "  108                 model.18.cv1.conv.weight     False        24576     [128, 192, 1, 1]   -0.00125     0.0212 torch.float32\n",
            "  109                   model.18.cv1.bn.weight     False          128                [128]      0.885      0.205 torch.float32\n",
            "  110                     model.18.cv1.bn.bias     False          128                [128]     -0.298      0.609 torch.float32\n",
            "  111                 model.18.cv2.conv.weight     False        24576     [128, 192, 1, 1]  -0.000884     0.0206 torch.float32\n",
            "  112                   model.18.cv2.bn.weight     False          128                [128]      0.734      0.292 torch.float32\n",
            "  113                     model.18.cv2.bn.bias     False          128                [128]     -0.427      0.761 torch.float32\n",
            "  114             model.18.m.0.cv1.conv.weight     False        36864       [64, 64, 3, 3]    -0.0014     0.0165 torch.float32\n",
            "  115               model.18.m.0.cv1.bn.weight     False           64                 [64]        0.8      0.177 torch.float32\n",
            "  116                 model.18.m.0.cv1.bn.bias     False           64                 [64]     -0.772       0.49 torch.float32\n",
            "  117             model.18.m.0.cv2.conv.weight     False        36864       [64, 64, 3, 3]  -0.000584     0.0152 torch.float32\n",
            "  118               model.18.m.0.cv2.bn.weight     False           64                 [64]       1.19      0.286 torch.float32\n",
            "  119                 model.18.m.0.cv2.bn.bias     False           64                 [64]    -0.0701      0.665 torch.float32\n",
            "  120                     model.19.conv.weight     False       147456     [128, 128, 3, 3]  -0.000376    0.00768 torch.float32\n",
            "  121                       model.19.bn.weight     False          128                [128]      0.877       0.21 torch.float32\n",
            "  122                         model.19.bn.bias     False          128                [128]     -0.507      0.364 torch.float32\n",
            "  123                 model.21.cv1.conv.weight     False        98304     [256, 384, 1, 1]   -0.00112     0.0124 torch.float32\n",
            "  124                   model.21.cv1.bn.weight     False          256                [256]       1.06      0.228 torch.float32\n",
            "  125                     model.21.cv1.bn.bias     False          256                [256]      -0.59      0.577 torch.float32\n",
            "  126                 model.21.cv2.conv.weight     False        98304     [256, 384, 1, 1]   -0.00096     0.0109 torch.float32\n",
            "  127                   model.21.cv2.bn.weight     False          256                [256]       1.04      0.317 torch.float32\n",
            "  128                     model.21.cv2.bn.bias     False          256                [256]      -0.89      0.489 torch.float32\n",
            "  129             model.21.m.0.cv1.conv.weight     False       147456     [128, 128, 3, 3]  -0.000713    0.00903 torch.float32\n",
            "  130               model.21.m.0.cv1.bn.weight     False          128                [128]       1.03      0.223 torch.float32\n",
            "  131                 model.21.m.0.cv1.bn.bias     False          128                [128]      -0.96      0.617 torch.float32\n",
            "  132             model.21.m.0.cv2.conv.weight     False       147456     [128, 128, 3, 3]   -0.00042     0.0083 torch.float32\n",
            "  133               model.21.m.0.cv2.bn.weight     False          128                [128]       1.36      0.252 torch.float32\n",
            "  134                 model.21.m.0.cv2.bn.bias     False          128                [128]      -0.55      0.517 torch.float32\n",
            "  135             model.22.cv2.0.0.conv.weight     False        36864       [64, 64, 3, 3]  -0.000871     0.0138 torch.float32\n",
            "  136               model.22.cv2.0.0.bn.weight     False           64                 [64]      0.882      0.357 torch.float32\n",
            "  137                 model.22.cv2.0.0.bn.bias     False           64                 [64]     -0.501      0.702 torch.float32\n",
            "  138             model.22.cv2.0.1.conv.weight     False        36864       [64, 64, 3, 3]  -0.000302     0.0121 torch.float32\n",
            "  139               model.22.cv2.0.1.bn.weight     False           64                 [64]       2.41       1.04 torch.float32\n",
            "  140                 model.22.cv2.0.1.bn.bias     False           64                 [64]      0.923      0.752 torch.float32\n",
            "  141                  model.22.cv2.0.2.weight     False         4096       [64, 64, 1, 1]   5.55e-07     0.0503 torch.float32\n",
            "  142                    model.22.cv2.0.2.bias     False           64                 [64]          1       1.39 torch.float32\n",
            "  143             model.22.cv2.1.0.conv.weight     False        73728      [64, 128, 3, 3]  -0.000461    0.00909 torch.float32\n",
            "  144               model.22.cv2.1.0.bn.weight     False           64                 [64]       1.29      0.492 torch.float32\n",
            "  145                 model.22.cv2.1.0.bn.bias     False           64                 [64]     -0.394      0.673 torch.float32\n",
            "  146             model.22.cv2.1.1.conv.weight     False        36864       [64, 64, 3, 3]  -0.000135     0.0113 torch.float32\n",
            "  147               model.22.cv2.1.1.bn.weight     False           64                 [64]       2.56          1 torch.float32\n",
            "  148                 model.22.cv2.1.1.bn.bias     False           64                 [64]      0.856      0.562 torch.float32\n",
            "  149                  model.22.cv2.1.2.weight     False         4096       [64, 64, 1, 1]  -4.08e-07     0.0548 torch.float32\n",
            "  150                    model.22.cv2.1.2.bias     False           64                 [64]      0.999       1.31 torch.float32\n",
            "  151             model.22.cv2.2.0.conv.weight     False       147456      [64, 256, 3, 3]  -0.000226    0.00654 torch.float32\n",
            "  152               model.22.cv2.2.0.bn.weight     False           64                 [64]       1.55      0.415 torch.float32\n",
            "  153                 model.22.cv2.2.0.bn.bias     False           64                 [64]     -0.257      0.617 torch.float32\n",
            "  154             model.22.cv2.2.1.conv.weight     False        36864       [64, 64, 3, 3]  -0.000172     0.0105 torch.float32\n",
            "  155               model.22.cv2.2.1.bn.weight     False           64                 [64]       2.95      0.853 torch.float32\n",
            "  156                 model.22.cv2.2.1.bn.bias     False           64                 [64]      0.826      0.555 torch.float32\n",
            "  157                  model.22.cv2.2.2.weight     False         4096       [64, 64, 1, 1]   5.78e-06     0.0593 torch.float32\n",
            "  158                    model.22.cv2.2.2.bias     False           64                 [64]          1       1.32 torch.float32\n",
            "  159             model.22.cv3.0.0.conv.weight     False        46080       [80, 64, 3, 3]  -0.000739     0.0119 torch.float32\n",
            "  160               model.22.cv3.0.0.bn.weight     False           80                 [80]      0.697      0.247 torch.float32\n",
            "  161                 model.22.cv3.0.0.bn.bias     False           80                 [80]      -0.58      0.767 torch.float32\n",
            "  162             model.22.cv3.0.1.conv.weight     False        57600       [80, 80, 3, 3]  -0.000899       0.01 torch.float32\n",
            "  163               model.22.cv3.0.1.bn.weight     False           80                 [80]       2.75      0.655 torch.float32\n",
            "  164                 model.22.cv3.0.1.bn.bias     False           80                 [80]       1.34       1.83 torch.float32\n",
            "  165                  model.22.cv3.0.2.weight     False         6400       [80, 80, 1, 1]    -0.0123     0.0532 torch.float32\n",
            "  166                    model.22.cv3.0.2.bias     False           80                 [80]      -11.4       1.11 torch.float32\n",
            "  167             model.22.cv3.1.0.conv.weight     False        92160      [80, 128, 3, 3]  -0.000437    0.00858 torch.float32\n",
            "  168               model.22.cv3.1.0.bn.weight     False           80                 [80]      0.872       0.28 torch.float32\n",
            "  169                 model.22.cv3.1.0.bn.bias     False           80                 [80]     -0.411      0.884 torch.float32\n",
            "  170             model.22.cv3.1.1.conv.weight     False        57600       [80, 80, 3, 3]  -0.000971    0.00925 torch.float32\n",
            "  171               model.22.cv3.1.1.bn.weight     False           80                 [80]       2.85       1.26 torch.float32\n",
            "  172                 model.22.cv3.1.1.bn.bias     False           80                 [80]       1.28       1.45 torch.float32\n",
            "  173                  model.22.cv3.1.2.weight     False         6400       [80, 80, 1, 1]    -0.0114     0.0527 torch.float32\n",
            "  174                    model.22.cv3.1.2.bias     False           80                 [80]      -10.5      0.911 torch.float32\n",
            "  175             model.22.cv3.2.0.conv.weight     False       184320      [80, 256, 3, 3]  -0.000242    0.00608 torch.float32\n",
            "  176               model.22.cv3.2.0.bn.weight     False           80                 [80]       1.12      0.328 torch.float32\n",
            "  177                 model.22.cv3.2.0.bn.bias     False           80                 [80]     -0.289      0.942 torch.float32\n",
            "  178             model.22.cv3.2.1.conv.weight     False        57600       [80, 80, 3, 3]   -0.00099    0.00803 torch.float32\n",
            "  179               model.22.cv3.2.1.bn.weight     False           80                 [80]       3.15       1.28 torch.float32\n",
            "  180                 model.22.cv3.2.1.bn.bias     False           80                 [80]       1.28       1.32 torch.float32\n",
            "  181                  model.22.cv3.2.2.weight     False         6400       [80, 80, 1, 1]    -0.0105     0.0502 torch.float32\n",
            "  182                    model.22.cv3.2.2.bias     False           80                 [80]      -9.61      0.937 torch.float32\n",
            "  183                 model.22.dfl.conv.weight     False           16        [1, 16, 1, 1]        7.5       4.76 torch.float32\n",
            "YOLOv8n summary: 225 layers, 3,157,200 parameters, 0 gradients, 8.9 GFLOPs\n"
          ]
        },
        {
          "data": {
            "text/plain": [
              "(225, 3157200, 0, 8.8575488)"
            ]
          },
          "execution_count": 13,
          "metadata": {},
          "output_type": "execute_result"
        }
      ],
      "source": [
        "model.info(True)"
      ]
    },
    {
      "cell_type": "code",
      "execution_count": null,
      "metadata": {
        "colab": {
          "base_uri": "https://localhost:8080/"
        },
        "id": "ew3I8TyNn3Ay",
        "outputId": "0068e536-0454-4757-92f9-7495789d8c17"
      },
      "outputs": [
        {
          "name": "stdout",
          "output_type": "stream",
          "text": [
            "\u001b[34m\u001b[1mengine/trainer: \u001b[0mtask=detect, mode=train, model=yolov8n.pt, data=/content/drive/MyDrive/YOLO_detection/weapon_data/data.yaml, epochs=120, time=None, patience=100, batch=16, imgsz=640, save=True, save_period=-1, cache=False, device=cuda:0, workers=8, project=None, name=train_detect_module2, exist_ok=False, pretrained=True, optimizer=auto, verbose=True, seed=0, deterministic=True, single_cls=False, rect=False, cos_lr=False, close_mosaic=10, resume=False, amp=True, fraction=1.0, profile=False, freeze=['model.0', 'model.1', 'model.2', 'model.3', 'model.4', 'model.5', 'model.6', 'model.7', 'model.8', 'model.9', 'model.10', 'model.11', 'model.12', 'model.13', 'model.14', 'model.15', 'model.16', 'model.17', 'model.18', 'model.19', 'model.20', 'model.21'], multi_scale=False, overlap_mask=True, mask_ratio=4, dropout=0.0, val=True, split=val, save_json=False, save_hybrid=False, conf=None, iou=0.7, max_det=300, half=False, dnn=False, plots=True, source=None, vid_stride=1, stream_buffer=False, visualize=False, augment=True, agnostic_nms=False, classes=None, retina_masks=False, embed=None, show=False, save_frames=False, save_txt=False, save_conf=False, save_crop=False, show_labels=True, show_conf=True, show_boxes=True, line_width=None, format=torchscript, keras=False, optimize=False, int8=False, dynamic=False, simplify=True, opset=None, workspace=4, nms=False, lr0=0.01, lrf=0.01, momentum=0.937, weight_decay=0.0005, warmup_epochs=3.0, warmup_momentum=0.8, warmup_bias_lr=0.1, box=7.5, cls=0.5, dfl=1.5, pose=12.0, kobj=1.0, label_smoothing=0.0, nbs=64, hsv_h=0.015, hsv_s=0.7, hsv_v=0.4, degrees=0.0, translate=0.1, scale=0.5, shear=0.0, perspective=0.0, flipud=0.0, fliplr=0.5, bgr=0.0, mosaic=1.0, mixup=0.0, copy_paste=0.0, copy_paste_mode=flip, auto_augment=randaugment, erasing=0.4, crop_fraction=1.0, cfg=None, tracker=botsort.yaml, save_dir=runs/detect/train_detect_module2\n",
            "\n",
            "                   from  n    params  module                                       arguments                     \n",
            "  0                  -1  1       464  ultralytics.nn.modules.conv.Conv             [3, 16, 3, 2]                 \n",
            "  1                  -1  1      4672  ultralytics.nn.modules.conv.Conv             [16, 32, 3, 2]                \n",
            "  2                  -1  1      7360  ultralytics.nn.modules.block.C2f             [32, 32, 1, True]             \n",
            "  3                  -1  1     18560  ultralytics.nn.modules.conv.Conv             [32, 64, 3, 2]                \n",
            "  4                  -1  2     49664  ultralytics.nn.modules.block.C2f             [64, 64, 2, True]             \n",
            "  5                  -1  1     73984  ultralytics.nn.modules.conv.Conv             [64, 128, 3, 2]               \n",
            "  6                  -1  2    197632  ultralytics.nn.modules.block.C2f             [128, 128, 2, True]           \n",
            "  7                  -1  1    295424  ultralytics.nn.modules.conv.Conv             [128, 256, 3, 2]              \n",
            "  8                  -1  1    460288  ultralytics.nn.modules.block.C2f             [256, 256, 1, True]           \n",
            "  9                  -1  1    164608  ultralytics.nn.modules.block.SPPF            [256, 256, 5]                 \n",
            " 10                  -1  1         0  torch.nn.modules.upsampling.Upsample         [None, 2, 'nearest']          \n",
            " 11             [-1, 6]  1         0  ultralytics.nn.modules.conv.Concat           [1]                           \n",
            " 12                  -1  1    148224  ultralytics.nn.modules.block.C2f             [384, 128, 1]                 \n",
            " 13                  -1  1         0  torch.nn.modules.upsampling.Upsample         [None, 2, 'nearest']          \n",
            " 14             [-1, 4]  1         0  ultralytics.nn.modules.conv.Concat           [1]                           \n",
            " 15                  -1  1     37248  ultralytics.nn.modules.block.C2f             [192, 64, 1]                  \n",
            " 16                  -1  1     36992  ultralytics.nn.modules.conv.Conv             [64, 64, 3, 2]                \n",
            " 17            [-1, 12]  1         0  ultralytics.nn.modules.conv.Concat           [1]                           \n",
            " 18                  -1  1    123648  ultralytics.nn.modules.block.C2f             [192, 128, 1]                 \n",
            " 19                  -1  1    147712  ultralytics.nn.modules.conv.Conv             [128, 128, 3, 2]              \n",
            " 20             [-1, 9]  1         0  ultralytics.nn.modules.conv.Concat           [1]                           \n",
            " 21                  -1  1    493056  ultralytics.nn.modules.block.C2f             [384, 256, 1]                 \n",
            " 22        [15, 18, 21]  1    430867  ultralytics.nn.modules.head.Detect           [1, [64, 128, 256]]           \n",
            "Model summary: 249 layers, 2,690,403 parameters, 2,690,387 gradients, 6.9 GFLOPs\n",
            "\n",
            "Transferred 391/391 items from pretrained weights\n",
            "\u001b[34m\u001b[1mTensorBoard: \u001b[0mStart with 'tensorboard --logdir runs/detect/train_detect_module2', view at http://localhost:6006/\n",
            "Freezing layer 'model.22.dfl.conv.weight'\n",
            "\u001b[34m\u001b[1mAMP: \u001b[0mrunning Automatic Mixed Precision (AMP) checks with YOLO11n...\n",
            "\u001b[34m\u001b[1mAMP: \u001b[0mchecks passed ✅\n"
          ]
        },
        {
          "name": "stderr",
          "output_type": "stream",
          "text": [
            "\u001b[34m\u001b[1mtrain: \u001b[0mScanning /content/drive/MyDrive/YOLO_detection/weapon_data/labels/train.cache... 78 images, 0 backgrounds, 0 corrupt: 100%|██████████| 78/78 [00:00<?, ?it/s]"
          ]
        },
        {
          "name": "stdout",
          "output_type": "stream",
          "text": [
            "\u001b[34m\u001b[1malbumentations: \u001b[0mBlur(p=0.01, blur_limit=(3, 7)), MedianBlur(p=0.01, blur_limit=(3, 7)), ToGray(p=0.01, num_output_channels=3, method='weighted_average'), CLAHE(p=0.01, clip_limit=(1, 4.0), tile_grid_size=(8, 8))\n"
          ]
        },
        {
          "name": "stderr",
          "output_type": "stream",
          "text": [
            "\n",
            "\u001b[34m\u001b[1mval: \u001b[0mScanning /content/drive/MyDrive/YOLO_detection/weapon_data/labels/val.cache... 10 images, 0 backgrounds, 0 corrupt: 100%|██████████| 10/10 [00:00<?, ?it/s]\n"
          ]
        },
        {
          "name": "stdout",
          "output_type": "stream",
          "text": [
            "Plotting labels to runs/detect/train_detect_module2/labels.jpg... \n",
            "\u001b[34m\u001b[1moptimizer:\u001b[0m 'optimizer=auto' found, ignoring 'lr0=0.01' and 'momentum=0.937' and determining best 'optimizer', 'lr0' and 'momentum' automatically... \n",
            "\u001b[34m\u001b[1moptimizer:\u001b[0m AdamW(lr=0.002, momentum=0.9) with parameter groups 63 weight(decay=0.0), 70 weight(decay=0.0005), 69 bias(decay=0.0)\n",
            "\u001b[34m\u001b[1mTensorBoard: \u001b[0mmodel graph visualization added ✅\n",
            "Image sizes 640 train, 640 val\n",
            "Using 2 dataloader workers\n",
            "Logging results to \u001b[1mruns/detect/train_detect_module2\u001b[0m\n",
            "Starting training for 120 epochs...\n",
            "\n",
            "      Epoch    GPU_mem   box_loss   cls_loss   dfl_loss  Instances       Size\n"
          ]
        },
        {
          "name": "stderr",
          "output_type": "stream",
          "text": [
            "      1/120       2.7G      1.805      3.042      1.242         25        640: 100%|██████████| 5/5 [00:01<00:00,  2.78it/s]\n",
            "                 Class     Images  Instances      Box(P          R      mAP50  mAP50-95): 100%|██████████| 1/1 [00:00<00:00,  4.67it/s]"
          ]
        },
        {
          "name": "stdout",
          "output_type": "stream",
          "text": [
            "                   all         10         10    0.00267        0.8      0.129     0.0643\n"
          ]
        },
        {
          "name": "stderr",
          "output_type": "stream",
          "text": [
            "\n"
          ]
        },
        {
          "name": "stdout",
          "output_type": "stream",
          "text": [
            "\n",
            "      Epoch    GPU_mem   box_loss   cls_loss   dfl_loss  Instances       Size\n"
          ]
        },
        {
          "name": "stderr",
          "output_type": "stream",
          "text": [
            "      2/120      2.56G      1.601      2.899      1.127         29        640: 100%|██████████| 5/5 [00:01<00:00,  4.08it/s]\n",
            "                 Class     Images  Instances      Box(P          R      mAP50  mAP50-95): 100%|██████████| 1/1 [00:00<00:00,  4.76it/s]"
          ]
        },
        {
          "name": "stdout",
          "output_type": "stream",
          "text": [
            "                   all         10         10    0.00233        0.7      0.276      0.139\n"
          ]
        },
        {
          "name": "stderr",
          "output_type": "stream",
          "text": [
            "\n"
          ]
        },
        {
          "name": "stdout",
          "output_type": "stream",
          "text": [
            "\n",
            "      Epoch    GPU_mem   box_loss   cls_loss   dfl_loss  Instances       Size\n"
          ]
        },
        {
          "name": "stderr",
          "output_type": "stream",
          "text": [
            "      3/120      2.48G      1.441      2.471      1.083         28        640: 100%|██████████| 5/5 [00:01<00:00,  3.92it/s]\n",
            "                 Class     Images  Instances      Box(P          R      mAP50  mAP50-95): 100%|██████████| 1/1 [00:00<00:00,  5.58it/s]"
          ]
        },
        {
          "name": "stdout",
          "output_type": "stream",
          "text": [
            "                   all         10         10    0.00267        0.8      0.223       0.14\n"
          ]
        },
        {
          "name": "stderr",
          "output_type": "stream",
          "text": [
            "\n"
          ]
        },
        {
          "name": "stdout",
          "output_type": "stream",
          "text": [
            "\n",
            "      Epoch    GPU_mem   box_loss   cls_loss   dfl_loss  Instances       Size\n"
          ]
        },
        {
          "name": "stderr",
          "output_type": "stream",
          "text": [
            "      4/120      2.49G      1.497      2.529      1.147         24        640: 100%|██████████| 5/5 [00:01<00:00,  3.19it/s]\n",
            "                 Class     Images  Instances      Box(P          R      mAP50  mAP50-95): 100%|██████████| 1/1 [00:00<00:00,  3.14it/s]"
          ]
        },
        {
          "name": "stdout",
          "output_type": "stream",
          "text": [
            "                   all         10         10    0.00267        0.8      0.204      0.146\n"
          ]
        },
        {
          "name": "stderr",
          "output_type": "stream",
          "text": [
            "\n"
          ]
        },
        {
          "name": "stdout",
          "output_type": "stream",
          "text": [
            "\n",
            "      Epoch    GPU_mem   box_loss   cls_loss   dfl_loss  Instances       Size\n"
          ]
        },
        {
          "name": "stderr",
          "output_type": "stream",
          "text": [
            "      5/120      2.49G      1.386      2.235      1.086         22        640: 100%|██████████| 5/5 [00:01<00:00,  2.66it/s]\n",
            "                 Class     Images  Instances      Box(P          R      mAP50  mAP50-95): 100%|██████████| 1/1 [00:00<00:00,  2.89it/s]"
          ]
        },
        {
          "name": "stdout",
          "output_type": "stream",
          "text": [
            "                   all         10         10    0.00267        0.8     0.0711     0.0471\n"
          ]
        },
        {
          "name": "stderr",
          "output_type": "stream",
          "text": [
            "\n"
          ]
        },
        {
          "name": "stdout",
          "output_type": "stream",
          "text": [
            "\n",
            "      Epoch    GPU_mem   box_loss   cls_loss   dfl_loss  Instances       Size\n"
          ]
        },
        {
          "name": "stderr",
          "output_type": "stream",
          "text": [
            "      6/120      2.49G      1.455      2.283      1.097         32        640: 100%|██████████| 5/5 [00:01<00:00,  3.52it/s]\n",
            "                 Class     Images  Instances      Box(P          R      mAP50  mAP50-95): 100%|██████████| 1/1 [00:00<00:00,  6.19it/s]\n"
          ]
        },
        {
          "name": "stdout",
          "output_type": "stream",
          "text": [
            "                   all         10         10    0.00267        0.8     0.0729     0.0444\n",
            "\n",
            "      Epoch    GPU_mem   box_loss   cls_loss   dfl_loss  Instances       Size\n"
          ]
        },
        {
          "name": "stderr",
          "output_type": "stream",
          "text": [
            "      7/120      2.49G      1.552      2.227      1.173         33        640: 100%|██████████| 5/5 [00:01<00:00,  4.36it/s]\n",
            "                 Class     Images  Instances      Box(P          R      mAP50  mAP50-95): 100%|██████████| 1/1 [00:00<00:00,  6.47it/s]\n"
          ]
        },
        {
          "name": "stdout",
          "output_type": "stream",
          "text": [
            "                   all         10         10    0.00267        0.8      0.149      0.121\n",
            "\n",
            "      Epoch    GPU_mem   box_loss   cls_loss   dfl_loss  Instances       Size\n"
          ]
        },
        {
          "name": "stderr",
          "output_type": "stream",
          "text": [
            "      8/120      2.49G      1.417      2.124      1.083         29        640: 100%|██████████| 5/5 [00:01<00:00,  4.30it/s]\n",
            "                 Class     Images  Instances      Box(P          R      mAP50  mAP50-95): 100%|██████████| 1/1 [00:00<00:00,  5.21it/s]\n"
          ]
        },
        {
          "name": "stdout",
          "output_type": "stream",
          "text": [
            "                   all         10         10    0.00267        0.8      0.225      0.182\n",
            "\n",
            "      Epoch    GPU_mem   box_loss   cls_loss   dfl_loss  Instances       Size\n"
          ]
        },
        {
          "name": "stderr",
          "output_type": "stream",
          "text": [
            "      9/120      2.49G      1.478      2.227      1.096         25        640: 100%|██████████| 5/5 [00:01<00:00,  4.38it/s]\n",
            "                 Class     Images  Instances      Box(P          R      mAP50  mAP50-95): 100%|██████████| 1/1 [00:00<00:00,  6.14it/s]\n"
          ]
        },
        {
          "name": "stdout",
          "output_type": "stream",
          "text": [
            "                   all         10         10    0.00233        0.7      0.239      0.126\n",
            "\n",
            "      Epoch    GPU_mem   box_loss   cls_loss   dfl_loss  Instances       Size\n"
          ]
        },
        {
          "name": "stderr",
          "output_type": "stream",
          "text": [
            "     10/120      2.49G      1.593      2.138      1.209         32        640: 100%|██████████| 5/5 [00:01<00:00,  4.61it/s]\n",
            "                 Class     Images  Instances      Box(P          R      mAP50  mAP50-95): 100%|██████████| 1/1 [00:00<00:00,  6.75it/s]\n"
          ]
        },
        {
          "name": "stdout",
          "output_type": "stream",
          "text": [
            "                   all         10         10    0.00233        0.7      0.206      0.101\n",
            "\n",
            "      Epoch    GPU_mem   box_loss   cls_loss   dfl_loss  Instances       Size\n"
          ]
        },
        {
          "name": "stderr",
          "output_type": "stream",
          "text": [
            "     11/120      2.49G      1.558      2.184      1.132         33        640: 100%|██████████| 5/5 [00:01<00:00,  3.40it/s]\n",
            "                 Class     Images  Instances      Box(P          R      mAP50  mAP50-95): 100%|██████████| 1/1 [00:00<00:00,  3.17it/s]"
          ]
        },
        {
          "name": "stdout",
          "output_type": "stream",
          "text": [
            "                   all         10         10    0.00267        0.8      0.117     0.0562\n"
          ]
        },
        {
          "name": "stderr",
          "output_type": "stream",
          "text": [
            "\n"
          ]
        },
        {
          "name": "stdout",
          "output_type": "stream",
          "text": [
            "\n",
            "      Epoch    GPU_mem   box_loss   cls_loss   dfl_loss  Instances       Size\n"
          ]
        },
        {
          "name": "stderr",
          "output_type": "stream",
          "text": [
            "     12/120      2.49G      1.479      2.082      1.185         22        640: 100%|██████████| 5/5 [00:01<00:00,  3.06it/s]\n",
            "                 Class     Images  Instances      Box(P          R      mAP50  mAP50-95): 100%|██████████| 1/1 [00:00<00:00,  3.53it/s]"
          ]
        },
        {
          "name": "stdout",
          "output_type": "stream",
          "text": [
            "                   all         10         10    0.00267        0.8     0.0134    0.00365\n"
          ]
        },
        {
          "name": "stderr",
          "output_type": "stream",
          "text": [
            "\n"
          ]
        },
        {
          "name": "stdout",
          "output_type": "stream",
          "text": [
            "\n",
            "      Epoch    GPU_mem   box_loss   cls_loss   dfl_loss  Instances       Size\n"
          ]
        },
        {
          "name": "stderr",
          "output_type": "stream",
          "text": [
            "     13/120      2.51G      1.469      2.042      1.162         36        640: 100%|██████████| 5/5 [00:01<00:00,  2.92it/s]\n",
            "                 Class     Images  Instances      Box(P          R      mAP50  mAP50-95): 100%|██████████| 1/1 [00:00<00:00,  2.73it/s]"
          ]
        },
        {
          "name": "stdout",
          "output_type": "stream",
          "text": [
            "                   all         10         10    0.00267        0.8     0.0082     0.0037\n"
          ]
        },
        {
          "name": "stderr",
          "output_type": "stream",
          "text": [
            "\n"
          ]
        },
        {
          "name": "stdout",
          "output_type": "stream",
          "text": [
            "\n",
            "      Epoch    GPU_mem   box_loss   cls_loss   dfl_loss  Instances       Size\n"
          ]
        },
        {
          "name": "stderr",
          "output_type": "stream",
          "text": [
            "     14/120      2.49G      1.566       2.02      1.109         34        640: 100%|██████████| 5/5 [00:01<00:00,  4.69it/s]\n",
            "                 Class     Images  Instances      Box(P          R      mAP50  mAP50-95): 100%|██████████| 1/1 [00:00<00:00,  5.71it/s]"
          ]
        },
        {
          "name": "stdout",
          "output_type": "stream",
          "text": [
            "                   all         10         10    0.00233        0.7    0.00545    0.00273\n"
          ]
        },
        {
          "name": "stderr",
          "output_type": "stream",
          "text": [
            "\n"
          ]
        },
        {
          "name": "stdout",
          "output_type": "stream",
          "text": [
            "\n",
            "      Epoch    GPU_mem   box_loss   cls_loss   dfl_loss  Instances       Size\n"
          ]
        },
        {
          "name": "stderr",
          "output_type": "stream",
          "text": [
            "     15/120      2.49G      1.634      2.037      1.224         29        640: 100%|██████████| 5/5 [00:01<00:00,  4.46it/s]\n",
            "                 Class     Images  Instances      Box(P          R      mAP50  mAP50-95): 100%|██████████| 1/1 [00:00<00:00, 11.19it/s]"
          ]
        },
        {
          "name": "stdout",
          "output_type": "stream",
          "text": [
            "                   all         10         10    0.00267        0.8     0.0131    0.00684\n"
          ]
        },
        {
          "name": "stderr",
          "output_type": "stream",
          "text": [
            "\n"
          ]
        },
        {
          "name": "stdout",
          "output_type": "stream",
          "text": [
            "\n",
            "      Epoch    GPU_mem   box_loss   cls_loss   dfl_loss  Instances       Size\n"
          ]
        },
        {
          "name": "stderr",
          "output_type": "stream",
          "text": [
            "     16/120      2.49G      1.608      2.072       1.19         29        640: 100%|██████████| 5/5 [00:01<00:00,  4.49it/s]\n",
            "                 Class     Images  Instances      Box(P          R      mAP50  mAP50-95): 100%|██████████| 1/1 [00:00<00:00,  4.19it/s]"
          ]
        },
        {
          "name": "stdout",
          "output_type": "stream",
          "text": [
            "                   all         10         10      0.003        0.9     0.0287     0.0193\n"
          ]
        },
        {
          "name": "stderr",
          "output_type": "stream",
          "text": [
            "\n"
          ]
        },
        {
          "name": "stdout",
          "output_type": "stream",
          "text": [
            "\n",
            "      Epoch    GPU_mem   box_loss   cls_loss   dfl_loss  Instances       Size\n"
          ]
        },
        {
          "name": "stderr",
          "output_type": "stream",
          "text": [
            "     17/120       2.5G      1.489      2.043      1.163         24        640: 100%|██████████| 5/5 [00:01<00:00,  4.99it/s]\n",
            "                 Class     Images  Instances      Box(P          R      mAP50  mAP50-95): 100%|██████████| 1/1 [00:00<00:00,  5.31it/s]"
          ]
        },
        {
          "name": "stdout",
          "output_type": "stream",
          "text": [
            "                   all         10         10     0.0526        0.3       0.28      0.157\n"
          ]
        },
        {
          "name": "stderr",
          "output_type": "stream",
          "text": [
            "\n"
          ]
        },
        {
          "name": "stdout",
          "output_type": "stream",
          "text": [
            "\n",
            "      Epoch    GPU_mem   box_loss   cls_loss   dfl_loss  Instances       Size\n"
          ]
        },
        {
          "name": "stderr",
          "output_type": "stream",
          "text": [
            "     18/120      2.49G      1.494      1.972      1.126         26        640: 100%|██████████| 5/5 [00:01<00:00,  4.58it/s]\n",
            "                 Class     Images  Instances      Box(P          R      mAP50  mAP50-95): 100%|██████████| 1/1 [00:00<00:00,  7.00it/s]"
          ]
        },
        {
          "name": "stdout",
          "output_type": "stream",
          "text": [
            "                   all         10         10      0.868        0.2      0.372      0.174\n"
          ]
        },
        {
          "name": "stderr",
          "output_type": "stream",
          "text": [
            "\n"
          ]
        },
        {
          "name": "stdout",
          "output_type": "stream",
          "text": [
            "\n",
            "      Epoch    GPU_mem   box_loss   cls_loss   dfl_loss  Instances       Size\n"
          ]
        },
        {
          "name": "stderr",
          "output_type": "stream",
          "text": [
            "     19/120      2.49G      1.471      1.846      1.081         25        640: 100%|██████████| 5/5 [00:01<00:00,  3.48it/s]\n",
            "                 Class     Images  Instances      Box(P          R      mAP50  mAP50-95): 100%|██████████| 1/1 [00:00<00:00,  3.18it/s]"
          ]
        },
        {
          "name": "stdout",
          "output_type": "stream",
          "text": [
            "                   all         10         10          1       0.29       0.54      0.262\n"
          ]
        },
        {
          "name": "stderr",
          "output_type": "stream",
          "text": [
            "\n"
          ]
        },
        {
          "name": "stdout",
          "output_type": "stream",
          "text": [
            "\n",
            "      Epoch    GPU_mem   box_loss   cls_loss   dfl_loss  Instances       Size\n"
          ]
        },
        {
          "name": "stderr",
          "output_type": "stream",
          "text": [
            "     20/120      2.49G      1.612      1.894       1.22         33        640: 100%|██████████| 5/5 [00:01<00:00,  3.23it/s]\n",
            "                 Class     Images  Instances      Box(P          R      mAP50  mAP50-95): 100%|██████████| 1/1 [00:00<00:00,  2.55it/s]"
          ]
        },
        {
          "name": "stdout",
          "output_type": "stream",
          "text": [
            "                   all         10         10      0.576      0.408      0.436      0.176\n"
          ]
        },
        {
          "name": "stderr",
          "output_type": "stream",
          "text": [
            "\n"
          ]
        },
        {
          "name": "stdout",
          "output_type": "stream",
          "text": [
            "\n",
            "      Epoch    GPU_mem   box_loss   cls_loss   dfl_loss  Instances       Size\n"
          ]
        },
        {
          "name": "stderr",
          "output_type": "stream",
          "text": [
            "     21/120      2.49G      1.395      1.851      1.118         26        640: 100%|██████████| 5/5 [00:01<00:00,  3.07it/s]\n",
            "                 Class     Images  Instances      Box(P          R      mAP50  mAP50-95): 100%|██████████| 1/1 [00:00<00:00,  5.09it/s]"
          ]
        },
        {
          "name": "stdout",
          "output_type": "stream",
          "text": [
            "                   all         10         10      0.335      0.255      0.166     0.0952\n"
          ]
        },
        {
          "name": "stderr",
          "output_type": "stream",
          "text": [
            "\n"
          ]
        },
        {
          "name": "stdout",
          "output_type": "stream",
          "text": [
            "\n",
            "      Epoch    GPU_mem   box_loss   cls_loss   dfl_loss  Instances       Size\n"
          ]
        },
        {
          "name": "stderr",
          "output_type": "stream",
          "text": [
            "     22/120      2.49G      1.498      1.868      1.145         22        640: 100%|██████████| 5/5 [00:01<00:00,  4.54it/s]\n",
            "                 Class     Images  Instances      Box(P          R      mAP50  mAP50-95): 100%|██████████| 1/1 [00:00<00:00,  5.35it/s]"
          ]
        },
        {
          "name": "stdout",
          "output_type": "stream",
          "text": [
            "                   all         10         10      0.497        0.3      0.312      0.179\n"
          ]
        },
        {
          "name": "stderr",
          "output_type": "stream",
          "text": [
            "\n"
          ]
        },
        {
          "name": "stdout",
          "output_type": "stream",
          "text": [
            "\n",
            "      Epoch    GPU_mem   box_loss   cls_loss   dfl_loss  Instances       Size\n"
          ]
        },
        {
          "name": "stderr",
          "output_type": "stream",
          "text": [
            "     23/120      2.49G      1.502      1.827      1.087         35        640: 100%|██████████| 5/5 [00:01<00:00,  4.33it/s]\n",
            "                 Class     Images  Instances      Box(P          R      mAP50  mAP50-95): 100%|██████████| 1/1 [00:00<00:00,  5.10it/s]"
          ]
        },
        {
          "name": "stdout",
          "output_type": "stream",
          "text": [
            "                   all         10         10      0.924        0.3      0.447      0.243\n"
          ]
        },
        {
          "name": "stderr",
          "output_type": "stream",
          "text": [
            "\n"
          ]
        },
        {
          "name": "stdout",
          "output_type": "stream",
          "text": [
            "\n",
            "      Epoch    GPU_mem   box_loss   cls_loss   dfl_loss  Instances       Size\n"
          ]
        },
        {
          "name": "stderr",
          "output_type": "stream",
          "text": [
            "     24/120      2.51G       1.59      1.894      1.239         25        640: 100%|██████████| 5/5 [00:01<00:00,  4.32it/s]\n",
            "                 Class     Images  Instances      Box(P          R      mAP50  mAP50-95): 100%|██████████| 1/1 [00:00<00:00, 10.54it/s]"
          ]
        },
        {
          "name": "stdout",
          "output_type": "stream",
          "text": [
            "                   all         10         10      0.972        0.4      0.465       0.27\n"
          ]
        },
        {
          "name": "stderr",
          "output_type": "stream",
          "text": [
            "\n"
          ]
        },
        {
          "name": "stdout",
          "output_type": "stream",
          "text": [
            "\n",
            "      Epoch    GPU_mem   box_loss   cls_loss   dfl_loss  Instances       Size\n"
          ]
        },
        {
          "name": "stderr",
          "output_type": "stream",
          "text": [
            "     25/120       2.5G      1.516      1.706      1.109         29        640: 100%|██████████| 5/5 [00:01<00:00,  3.68it/s]\n",
            "                 Class     Images  Instances      Box(P          R      mAP50  mAP50-95): 100%|██████████| 1/1 [00:00<00:00,  4.40it/s]"
          ]
        },
        {
          "name": "stdout",
          "output_type": "stream",
          "text": [
            "                   all         10         10      0.947        0.4      0.479      0.264\n"
          ]
        },
        {
          "name": "stderr",
          "output_type": "stream",
          "text": [
            "\n"
          ]
        },
        {
          "name": "stdout",
          "output_type": "stream",
          "text": [
            "\n",
            "      Epoch    GPU_mem   box_loss   cls_loss   dfl_loss  Instances       Size\n"
          ]
        },
        {
          "name": "stderr",
          "output_type": "stream",
          "text": [
            "     26/120      2.49G      1.462      1.642      1.118         29        640: 100%|██████████| 5/5 [00:02<00:00,  2.45it/s]\n",
            "                 Class     Images  Instances      Box(P          R      mAP50  mAP50-95): 100%|██████████| 1/1 [00:00<00:00,  3.71it/s]"
          ]
        },
        {
          "name": "stdout",
          "output_type": "stream",
          "text": [
            "                   all         10         10       0.78        0.5      0.502      0.224\n"
          ]
        },
        {
          "name": "stderr",
          "output_type": "stream",
          "text": [
            "\n"
          ]
        },
        {
          "name": "stdout",
          "output_type": "stream",
          "text": [
            "\n",
            "      Epoch    GPU_mem   box_loss   cls_loss   dfl_loss  Instances       Size\n"
          ]
        },
        {
          "name": "stderr",
          "output_type": "stream",
          "text": [
            "     27/120      2.49G      1.518      1.776      1.145         25        640: 100%|██████████| 5/5 [00:01<00:00,  2.88it/s]\n",
            "                 Class     Images  Instances      Box(P          R      mAP50  mAP50-95): 100%|██████████| 1/1 [00:00<00:00,  2.40it/s]"
          ]
        },
        {
          "name": "stdout",
          "output_type": "stream",
          "text": [
            "                   all         10         10          1        0.3      0.435      0.202\n"
          ]
        },
        {
          "name": "stderr",
          "output_type": "stream",
          "text": [
            "\n"
          ]
        },
        {
          "name": "stdout",
          "output_type": "stream",
          "text": [
            "\n",
            "      Epoch    GPU_mem   box_loss   cls_loss   dfl_loss  Instances       Size\n"
          ]
        },
        {
          "name": "stderr",
          "output_type": "stream",
          "text": [
            "     28/120      2.49G      1.492      1.692      1.191         21        640: 100%|██████████| 5/5 [00:01<00:00,  3.26it/s]\n",
            "                 Class     Images  Instances      Box(P          R      mAP50  mAP50-95): 100%|██████████| 1/1 [00:00<00:00,  5.20it/s]"
          ]
        },
        {
          "name": "stdout",
          "output_type": "stream",
          "text": [
            "                   all         10         10          1      0.394      0.515      0.228\n"
          ]
        },
        {
          "name": "stderr",
          "output_type": "stream",
          "text": [
            "\n"
          ]
        },
        {
          "name": "stdout",
          "output_type": "stream",
          "text": [
            "\n",
            "      Epoch    GPU_mem   box_loss   cls_loss   dfl_loss  Instances       Size\n"
          ]
        },
        {
          "name": "stderr",
          "output_type": "stream",
          "text": [
            "     29/120      2.49G      1.488      1.633      1.179         24        640: 100%|██████████| 5/5 [00:01<00:00,  4.34it/s]\n",
            "                 Class     Images  Instances      Box(P          R      mAP50  mAP50-95): 100%|██████████| 1/1 [00:00<00:00,  6.09it/s]"
          ]
        },
        {
          "name": "stdout",
          "output_type": "stream",
          "text": [
            "                   all         10         10      0.487      0.477      0.444      0.199\n"
          ]
        },
        {
          "name": "stderr",
          "output_type": "stream",
          "text": [
            "\n"
          ]
        },
        {
          "name": "stdout",
          "output_type": "stream",
          "text": [
            "\n",
            "      Epoch    GPU_mem   box_loss   cls_loss   dfl_loss  Instances       Size\n"
          ]
        },
        {
          "name": "stderr",
          "output_type": "stream",
          "text": [
            "     30/120      2.49G      1.428      1.551      1.105         29        640: 100%|██████████| 5/5 [00:01<00:00,  4.50it/s]\n",
            "                 Class     Images  Instances      Box(P          R      mAP50  mAP50-95): 100%|██████████| 1/1 [00:00<00:00,  5.58it/s]\n"
          ]
        },
        {
          "name": "stdout",
          "output_type": "stream",
          "text": [
            "                   all         10         10      0.764        0.4      0.417      0.157\n",
            "\n",
            "      Epoch    GPU_mem   box_loss   cls_loss   dfl_loss  Instances       Size\n"
          ]
        },
        {
          "name": "stderr",
          "output_type": "stream",
          "text": [
            "     31/120      2.49G      1.399      1.503      1.095         23        640: 100%|██████████| 5/5 [00:01<00:00,  4.84it/s]\n",
            "                 Class     Images  Instances      Box(P          R      mAP50  mAP50-95): 100%|██████████| 1/1 [00:00<00:00,  5.60it/s]"
          ]
        },
        {
          "name": "stdout",
          "output_type": "stream",
          "text": [
            "                   all         10         10      0.969        0.4      0.417      0.179\n"
          ]
        },
        {
          "name": "stderr",
          "output_type": "stream",
          "text": [
            "\n"
          ]
        },
        {
          "name": "stdout",
          "output_type": "stream",
          "text": [
            "\n",
            "      Epoch    GPU_mem   box_loss   cls_loss   dfl_loss  Instances       Size\n"
          ]
        },
        {
          "name": "stderr",
          "output_type": "stream",
          "text": [
            "     32/120      2.49G       1.41      1.645      1.119         30        640: 100%|██████████| 5/5 [00:01<00:00,  4.39it/s]\n",
            "                 Class     Images  Instances      Box(P          R      mAP50  mAP50-95): 100%|██████████| 1/1 [00:00<00:00,  6.91it/s]"
          ]
        },
        {
          "name": "stdout",
          "output_type": "stream",
          "text": [
            "                   all         10         10      0.534      0.574      0.465      0.215\n"
          ]
        },
        {
          "name": "stderr",
          "output_type": "stream",
          "text": [
            "\n"
          ]
        },
        {
          "name": "stdout",
          "output_type": "stream",
          "text": [
            "\n",
            "      Epoch    GPU_mem   box_loss   cls_loss   dfl_loss  Instances       Size\n"
          ]
        },
        {
          "name": "stderr",
          "output_type": "stream",
          "text": [
            "     33/120      2.49G       1.37      1.467      1.089         28        640: 100%|██████████| 5/5 [00:01<00:00,  3.65it/s]\n",
            "                 Class     Images  Instances      Box(P          R      mAP50  mAP50-95): 100%|██████████| 1/1 [00:00<00:00,  2.93it/s]"
          ]
        },
        {
          "name": "stdout",
          "output_type": "stream",
          "text": [
            "                   all         10         10      0.581        0.6      0.501      0.274\n"
          ]
        },
        {
          "name": "stderr",
          "output_type": "stream",
          "text": [
            "\n"
          ]
        },
        {
          "name": "stdout",
          "output_type": "stream",
          "text": [
            "\n",
            "      Epoch    GPU_mem   box_loss   cls_loss   dfl_loss  Instances       Size\n"
          ]
        },
        {
          "name": "stderr",
          "output_type": "stream",
          "text": [
            "     34/120      2.49G      1.418      1.493      1.148         28        640: 100%|██████████| 5/5 [00:01<00:00,  3.33it/s]\n",
            "                 Class     Images  Instances      Box(P          R      mAP50  mAP50-95): 100%|██████████| 1/1 [00:00<00:00,  2.76it/s]"
          ]
        },
        {
          "name": "stdout",
          "output_type": "stream",
          "text": [
            "                   all         10         10      0.532        0.7      0.524      0.273\n"
          ]
        },
        {
          "name": "stderr",
          "output_type": "stream",
          "text": [
            "\n"
          ]
        },
        {
          "name": "stdout",
          "output_type": "stream",
          "text": [
            "\n",
            "      Epoch    GPU_mem   box_loss   cls_loss   dfl_loss  Instances       Size\n"
          ]
        },
        {
          "name": "stderr",
          "output_type": "stream",
          "text": [
            "     35/120      2.51G       1.46      1.592      1.103         28        640: 100%|██████████| 5/5 [00:01<00:00,  2.99it/s]\n",
            "                 Class     Images  Instances      Box(P          R      mAP50  mAP50-95): 100%|██████████| 1/1 [00:00<00:00,  2.75it/s]"
          ]
        },
        {
          "name": "stdout",
          "output_type": "stream",
          "text": [
            "                   all         10         10      0.578      0.685      0.531      0.245\n"
          ]
        },
        {
          "name": "stderr",
          "output_type": "stream",
          "text": [
            "\n"
          ]
        },
        {
          "name": "stdout",
          "output_type": "stream",
          "text": [
            "\n",
            "      Epoch    GPU_mem   box_loss   cls_loss   dfl_loss  Instances       Size\n"
          ]
        },
        {
          "name": "stderr",
          "output_type": "stream",
          "text": [
            "     36/120       2.5G      1.267       1.38      1.052         33        640: 100%|██████████| 5/5 [00:01<00:00,  3.99it/s]\n",
            "                 Class     Images  Instances      Box(P          R      mAP50  mAP50-95): 100%|██████████| 1/1 [00:00<00:00, 10.36it/s]"
          ]
        },
        {
          "name": "stdout",
          "output_type": "stream",
          "text": [
            "                   all         10         10      0.675        0.5      0.491      0.229\n"
          ]
        },
        {
          "name": "stderr",
          "output_type": "stream",
          "text": [
            "\n"
          ]
        },
        {
          "name": "stdout",
          "output_type": "stream",
          "text": [
            "\n",
            "      Epoch    GPU_mem   box_loss   cls_loss   dfl_loss  Instances       Size\n"
          ]
        },
        {
          "name": "stderr",
          "output_type": "stream",
          "text": [
            "     37/120      2.51G      1.332      1.346      1.081         34        640: 100%|██████████| 5/5 [00:01<00:00,  4.74it/s]\n",
            "                 Class     Images  Instances      Box(P          R      mAP50  mAP50-95): 100%|██████████| 1/1 [00:00<00:00,  5.16it/s]\n"
          ]
        },
        {
          "name": "stdout",
          "output_type": "stream",
          "text": [
            "                   all         10         10          1      0.387      0.454      0.233\n",
            "\n",
            "      Epoch    GPU_mem   box_loss   cls_loss   dfl_loss  Instances       Size\n"
          ]
        },
        {
          "name": "stderr",
          "output_type": "stream",
          "text": [
            "     38/120      2.49G      1.293       1.35      1.059         27        640: 100%|██████████| 5/5 [00:01<00:00,  4.71it/s]\n",
            "                 Class     Images  Instances      Box(P          R      mAP50  mAP50-95): 100%|██████████| 1/1 [00:00<00:00,  6.06it/s]"
          ]
        },
        {
          "name": "stdout",
          "output_type": "stream",
          "text": [
            "                   all         10         10      0.785        0.5      0.578       0.23\n"
          ]
        },
        {
          "name": "stderr",
          "output_type": "stream",
          "text": [
            "\n"
          ]
        },
        {
          "name": "stdout",
          "output_type": "stream",
          "text": [
            "\n",
            "      Epoch    GPU_mem   box_loss   cls_loss   dfl_loss  Instances       Size\n"
          ]
        },
        {
          "name": "stderr",
          "output_type": "stream",
          "text": [
            "     39/120      2.51G      1.205      1.284      1.072         30        640: 100%|██████████| 5/5 [00:01<00:00,  4.94it/s]\n",
            "                 Class     Images  Instances      Box(P          R      mAP50  mAP50-95): 100%|██████████| 1/1 [00:00<00:00,  5.71it/s]"
          ]
        },
        {
          "name": "stdout",
          "output_type": "stream",
          "text": [
            "                   all         10         10      0.924        0.4      0.579      0.235\n"
          ]
        },
        {
          "name": "stderr",
          "output_type": "stream",
          "text": [
            "\n"
          ]
        },
        {
          "name": "stdout",
          "output_type": "stream",
          "text": [
            "\n",
            "      Epoch    GPU_mem   box_loss   cls_loss   dfl_loss  Instances       Size\n"
          ]
        },
        {
          "name": "stderr",
          "output_type": "stream",
          "text": [
            "     40/120      2.49G      1.313      1.312      1.068         29        640: 100%|██████████| 5/5 [00:01<00:00,  4.64it/s]\n",
            "                 Class     Images  Instances      Box(P          R      mAP50  mAP50-95): 100%|██████████| 1/1 [00:00<00:00, 10.87it/s]"
          ]
        },
        {
          "name": "stdout",
          "output_type": "stream",
          "text": [
            "                   all         10         10       0.54        0.4      0.443      0.154\n"
          ]
        },
        {
          "name": "stderr",
          "output_type": "stream",
          "text": [
            "\n"
          ]
        },
        {
          "name": "stdout",
          "output_type": "stream",
          "text": [
            "\n",
            "      Epoch    GPU_mem   box_loss   cls_loss   dfl_loss  Instances       Size\n"
          ]
        },
        {
          "name": "stderr",
          "output_type": "stream",
          "text": [
            "     41/120      2.49G      1.296      1.322      1.028         28        640: 100%|██████████| 5/5 [00:01<00:00,  3.02it/s]\n",
            "                 Class     Images  Instances      Box(P          R      mAP50  mAP50-95): 100%|██████████| 1/1 [00:00<00:00,  5.44it/s]\n"
          ]
        },
        {
          "name": "stdout",
          "output_type": "stream",
          "text": [
            "                   all         10         10      0.559        0.4      0.376       0.12\n",
            "\n",
            "      Epoch    GPU_mem   box_loss   cls_loss   dfl_loss  Instances       Size\n"
          ]
        },
        {
          "name": "stderr",
          "output_type": "stream",
          "text": [
            "     42/120      2.49G      1.227       1.26      1.046         30        640: 100%|██████████| 5/5 [00:01<00:00,  3.29it/s]\n",
            "                 Class     Images  Instances      Box(P          R      mAP50  mAP50-95): 100%|██████████| 1/1 [00:00<00:00,  2.73it/s]"
          ]
        },
        {
          "name": "stdout",
          "output_type": "stream",
          "text": [
            "                   all         10         10      0.571        0.3       0.36      0.124\n"
          ]
        },
        {
          "name": "stderr",
          "output_type": "stream",
          "text": [
            "\n"
          ]
        },
        {
          "name": "stdout",
          "output_type": "stream",
          "text": [
            "\n",
            "      Epoch    GPU_mem   box_loss   cls_loss   dfl_loss  Instances       Size\n"
          ]
        },
        {
          "name": "stderr",
          "output_type": "stream",
          "text": [
            "     43/120      2.49G      1.205      1.241      1.049         30        640: 100%|██████████| 5/5 [00:01<00:00,  3.39it/s]\n",
            "                 Class     Images  Instances      Box(P          R      mAP50  mAP50-95): 100%|██████████| 1/1 [00:00<00:00,  2.64it/s]"
          ]
        },
        {
          "name": "stdout",
          "output_type": "stream",
          "text": [
            "                   all         10         10      0.727        0.3      0.395      0.168\n"
          ]
        },
        {
          "name": "stderr",
          "output_type": "stream",
          "text": [
            "\n"
          ]
        },
        {
          "name": "stdout",
          "output_type": "stream",
          "text": [
            "\n",
            "      Epoch    GPU_mem   box_loss   cls_loss   dfl_loss  Instances       Size\n"
          ]
        },
        {
          "name": "stderr",
          "output_type": "stream",
          "text": [
            "     44/120      2.49G      1.194      1.146      1.029         32        640: 100%|██████████| 5/5 [00:01<00:00,  4.36it/s]\n",
            "                 Class     Images  Instances      Box(P          R      mAP50  mAP50-95): 100%|██████████| 1/1 [00:00<00:00,  7.36it/s]"
          ]
        },
        {
          "name": "stdout",
          "output_type": "stream",
          "text": [
            "                   all         10         10      0.427      0.746      0.507      0.256\n"
          ]
        },
        {
          "name": "stderr",
          "output_type": "stream",
          "text": [
            "\n"
          ]
        },
        {
          "name": "stdout",
          "output_type": "stream",
          "text": [
            "\n",
            "      Epoch    GPU_mem   box_loss   cls_loss   dfl_loss  Instances       Size\n"
          ]
        },
        {
          "name": "stderr",
          "output_type": "stream",
          "text": [
            "     45/120       2.5G      1.328      1.343      1.072         31        640: 100%|██████████| 5/5 [00:01<00:00,  4.56it/s]\n",
            "                 Class     Images  Instances      Box(P          R      mAP50  mAP50-95): 100%|██████████| 1/1 [00:00<00:00,  8.01it/s]"
          ]
        },
        {
          "name": "stdout",
          "output_type": "stream",
          "text": [
            "                   all         10         10      0.757        0.4      0.488      0.254\n"
          ]
        },
        {
          "name": "stderr",
          "output_type": "stream",
          "text": [
            "\n"
          ]
        },
        {
          "name": "stdout",
          "output_type": "stream",
          "text": [
            "\n",
            "      Epoch    GPU_mem   box_loss   cls_loss   dfl_loss  Instances       Size\n"
          ]
        },
        {
          "name": "stderr",
          "output_type": "stream",
          "text": [
            "     46/120      2.49G      1.202      1.193      1.016         29        640: 100%|██████████| 5/5 [00:01<00:00,  4.50it/s]\n",
            "                 Class     Images  Instances      Box(P          R      mAP50  mAP50-95): 100%|██████████| 1/1 [00:00<00:00,  4.95it/s]"
          ]
        },
        {
          "name": "stdout",
          "output_type": "stream",
          "text": [
            "                   all         10         10      0.473        0.7      0.514      0.256\n"
          ]
        },
        {
          "name": "stderr",
          "output_type": "stream",
          "text": [
            "\n"
          ]
        },
        {
          "name": "stdout",
          "output_type": "stream",
          "text": [
            "\n",
            "      Epoch    GPU_mem   box_loss   cls_loss   dfl_loss  Instances       Size\n"
          ]
        },
        {
          "name": "stderr",
          "output_type": "stream",
          "text": [
            "     47/120      2.49G      1.228       1.21      1.055         26        640: 100%|██████████| 5/5 [00:01<00:00,  4.65it/s]\n",
            "                 Class     Images  Instances      Box(P          R      mAP50  mAP50-95): 100%|██████████| 1/1 [00:00<00:00,  4.48it/s]"
          ]
        },
        {
          "name": "stdout",
          "output_type": "stream",
          "text": [
            "                   all         10         10      0.445        0.7      0.521      0.255\n"
          ]
        },
        {
          "name": "stderr",
          "output_type": "stream",
          "text": [
            "\n"
          ]
        },
        {
          "name": "stdout",
          "output_type": "stream",
          "text": [
            "\n",
            "      Epoch    GPU_mem   box_loss   cls_loss   dfl_loss  Instances       Size\n"
          ]
        },
        {
          "name": "stderr",
          "output_type": "stream",
          "text": [
            "     48/120      2.49G      1.207      1.192      1.052         38        640: 100%|██████████| 5/5 [00:01<00:00,  3.82it/s]\n",
            "                 Class     Images  Instances      Box(P          R      mAP50  mAP50-95): 100%|██████████| 1/1 [00:00<00:00,  8.62it/s]\n"
          ]
        },
        {
          "name": "stdout",
          "output_type": "stream",
          "text": [
            "                   all         10         10       0.95        0.7      0.834      0.358\n",
            "\n",
            "      Epoch    GPU_mem   box_loss   cls_loss   dfl_loss  Instances       Size\n"
          ]
        },
        {
          "name": "stderr",
          "output_type": "stream",
          "text": [
            "     49/120      2.49G       1.19      1.162      1.033         29        640: 100%|██████████| 5/5 [00:01<00:00,  3.48it/s]\n",
            "                 Class     Images  Instances      Box(P          R      mAP50  mAP50-95): 100%|██████████| 1/1 [00:00<00:00,  3.40it/s]"
          ]
        },
        {
          "name": "stdout",
          "output_type": "stream",
          "text": [
            "                   all         10         10       0.87      0.673        0.8      0.424\n"
          ]
        },
        {
          "name": "stderr",
          "output_type": "stream",
          "text": [
            "\n"
          ]
        },
        {
          "name": "stdout",
          "output_type": "stream",
          "text": [
            "\n",
            "      Epoch    GPU_mem   box_loss   cls_loss   dfl_loss  Instances       Size\n"
          ]
        },
        {
          "name": "stderr",
          "output_type": "stream",
          "text": [
            "     50/120      2.49G      1.139      1.147      1.015         34        640: 100%|██████████| 5/5 [00:01<00:00,  3.13it/s]\n",
            "                 Class     Images  Instances      Box(P          R      mAP50  mAP50-95): 100%|██████████| 1/1 [00:00<00:00,  3.26it/s]"
          ]
        },
        {
          "name": "stdout",
          "output_type": "stream",
          "text": [
            "                   all         10         10      0.969        0.6      0.767      0.418\n"
          ]
        },
        {
          "name": "stderr",
          "output_type": "stream",
          "text": [
            "\n"
          ]
        },
        {
          "name": "stdout",
          "output_type": "stream",
          "text": [
            "\n",
            "      Epoch    GPU_mem   box_loss   cls_loss   dfl_loss  Instances       Size\n"
          ]
        },
        {
          "name": "stderr",
          "output_type": "stream",
          "text": [
            "     51/120      2.51G       1.13      1.109      1.021         30        640: 100%|██████████| 5/5 [00:00<00:00,  5.35it/s]\n",
            "                 Class     Images  Instances      Box(P          R      mAP50  mAP50-95): 100%|██████████| 1/1 [00:00<00:00,  3.43it/s]"
          ]
        },
        {
          "name": "stdout",
          "output_type": "stream",
          "text": [
            "                   all         10         10      0.974        0.6      0.745       0.41\n"
          ]
        },
        {
          "name": "stderr",
          "output_type": "stream",
          "text": [
            "\n"
          ]
        },
        {
          "name": "stdout",
          "output_type": "stream",
          "text": [
            "\n",
            "      Epoch    GPU_mem   box_loss   cls_loss   dfl_loss  Instances       Size\n"
          ]
        },
        {
          "name": "stderr",
          "output_type": "stream",
          "text": [
            "     52/120      2.49G      1.137      1.068     0.9912         28        640: 100%|██████████| 5/5 [00:01<00:00,  4.20it/s]\n",
            "                 Class     Images  Instances      Box(P          R      mAP50  mAP50-95): 100%|██████████| 1/1 [00:00<00:00,  8.71it/s]"
          ]
        },
        {
          "name": "stdout",
          "output_type": "stream",
          "text": [
            "                   all         10         10          1      0.597      0.726      0.389\n"
          ]
        },
        {
          "name": "stderr",
          "output_type": "stream",
          "text": [
            "\n"
          ]
        },
        {
          "name": "stdout",
          "output_type": "stream",
          "text": [
            "\n",
            "      Epoch    GPU_mem   box_loss   cls_loss   dfl_loss  Instances       Size\n"
          ]
        },
        {
          "name": "stderr",
          "output_type": "stream",
          "text": [
            "     53/120      2.49G      1.109      1.019     0.9763         36        640: 100%|██████████| 5/5 [00:01<00:00,  4.66it/s]\n",
            "                 Class     Images  Instances      Box(P          R      mAP50  mAP50-95): 100%|██████████| 1/1 [00:00<00:00,  5.96it/s]"
          ]
        },
        {
          "name": "stdout",
          "output_type": "stream",
          "text": [
            "                   all         10         10          1      0.588      0.729      0.421\n"
          ]
        },
        {
          "name": "stderr",
          "output_type": "stream",
          "text": [
            "\n"
          ]
        },
        {
          "name": "stdout",
          "output_type": "stream",
          "text": [
            "\n",
            "      Epoch    GPU_mem   box_loss   cls_loss   dfl_loss  Instances       Size\n"
          ]
        },
        {
          "name": "stderr",
          "output_type": "stream",
          "text": [
            "     54/120      2.49G      1.073       1.03     0.9802         33        640: 100%|██████████| 5/5 [00:01<00:00,  4.41it/s]\n",
            "                 Class     Images  Instances      Box(P          R      mAP50  mAP50-95): 100%|██████████| 1/1 [00:00<00:00,  7.47it/s]"
          ]
        },
        {
          "name": "stdout",
          "output_type": "stream",
          "text": [
            "                   all         10         10      0.849      0.565      0.732      0.394\n"
          ]
        },
        {
          "name": "stderr",
          "output_type": "stream",
          "text": [
            "\n"
          ]
        },
        {
          "name": "stdout",
          "output_type": "stream",
          "text": [
            "\n",
            "      Epoch    GPU_mem   box_loss   cls_loss   dfl_loss  Instances       Size\n"
          ]
        },
        {
          "name": "stderr",
          "output_type": "stream",
          "text": [
            "     55/120      2.49G      1.186      1.119      1.014         35        640: 100%|██████████| 5/5 [00:01<00:00,  4.66it/s]\n",
            "                 Class     Images  Instances      Box(P          R      mAP50  mAP50-95): 100%|██████████| 1/1 [00:00<00:00,  5.25it/s]\n"
          ]
        },
        {
          "name": "stdout",
          "output_type": "stream",
          "text": [
            "                   all         10         10       0.65        0.7      0.715      0.389\n",
            "\n",
            "      Epoch    GPU_mem   box_loss   cls_loss   dfl_loss  Instances       Size\n"
          ]
        },
        {
          "name": "stderr",
          "output_type": "stream",
          "text": [
            "     56/120      2.49G      1.019      1.034     0.9812         28        640: 100%|██████████| 5/5 [00:01<00:00,  3.50it/s]\n",
            "                 Class     Images  Instances      Box(P          R      mAP50  mAP50-95): 100%|██████████| 1/1 [00:00<00:00,  3.09it/s]"
          ]
        },
        {
          "name": "stdout",
          "output_type": "stream",
          "text": [
            "                   all         10         10          1      0.593      0.706      0.366\n"
          ]
        },
        {
          "name": "stderr",
          "output_type": "stream",
          "text": [
            "\n"
          ]
        },
        {
          "name": "stdout",
          "output_type": "stream",
          "text": [
            "\n",
            "      Epoch    GPU_mem   box_loss   cls_loss   dfl_loss  Instances       Size\n"
          ]
        },
        {
          "name": "stderr",
          "output_type": "stream",
          "text": [
            "     57/120       2.5G      1.068      0.983     0.9628         25        640: 100%|██████████| 5/5 [00:01<00:00,  3.12it/s]\n",
            "                 Class     Images  Instances      Box(P          R      mAP50  mAP50-95): 100%|██████████| 1/1 [00:00<00:00,  3.53it/s]"
          ]
        },
        {
          "name": "stdout",
          "output_type": "stream",
          "text": [
            "                   all         10         10       0.95        0.6      0.709      0.375\n"
          ]
        },
        {
          "name": "stderr",
          "output_type": "stream",
          "text": [
            "\n"
          ]
        },
        {
          "name": "stdout",
          "output_type": "stream",
          "text": [
            "\n",
            "      Epoch    GPU_mem   box_loss   cls_loss   dfl_loss  Instances       Size\n"
          ]
        },
        {
          "name": "stderr",
          "output_type": "stream",
          "text": [
            "     58/120      2.49G      1.061      1.043     0.9937         24        640: 100%|██████████| 5/5 [00:01<00:00,  3.31it/s]\n",
            "                 Class     Images  Instances      Box(P          R      mAP50  mAP50-95): 100%|██████████| 1/1 [00:00<00:00,  3.97it/s]"
          ]
        },
        {
          "name": "stdout",
          "output_type": "stream",
          "text": [
            "                   all         10         10      0.978        0.6      0.711      0.341\n"
          ]
        },
        {
          "name": "stderr",
          "output_type": "stream",
          "text": [
            "\n"
          ]
        },
        {
          "name": "stdout",
          "output_type": "stream",
          "text": [
            "\n",
            "      Epoch    GPU_mem   box_loss   cls_loss   dfl_loss  Instances       Size\n"
          ]
        },
        {
          "name": "stderr",
          "output_type": "stream",
          "text": [
            "     59/120      2.49G      1.102      1.047     0.9986         27        640: 100%|██████████| 5/5 [00:01<00:00,  4.64it/s]\n",
            "                 Class     Images  Instances      Box(P          R      mAP50  mAP50-95): 100%|██████████| 1/1 [00:00<00:00,  6.52it/s]"
          ]
        },
        {
          "name": "stdout",
          "output_type": "stream",
          "text": [
            "                   all         10         10      0.981        0.6      0.701      0.367\n"
          ]
        },
        {
          "name": "stderr",
          "output_type": "stream",
          "text": [
            "\n"
          ]
        },
        {
          "name": "stdout",
          "output_type": "stream",
          "text": [
            "\n",
            "      Epoch    GPU_mem   box_loss   cls_loss   dfl_loss  Instances       Size\n"
          ]
        },
        {
          "name": "stderr",
          "output_type": "stream",
          "text": [
            "     60/120      2.49G      1.085      1.029     0.9915         26        640: 100%|██████████| 5/5 [00:01<00:00,  4.60it/s]\n",
            "                 Class     Images  Instances      Box(P          R      mAP50  mAP50-95): 100%|██████████| 1/1 [00:00<00:00,  5.07it/s]"
          ]
        },
        {
          "name": "stdout",
          "output_type": "stream",
          "text": [
            "                   all         10         10      0.976        0.6      0.644      0.355\n"
          ]
        },
        {
          "name": "stderr",
          "output_type": "stream",
          "text": [
            "\n"
          ]
        },
        {
          "name": "stdout",
          "output_type": "stream",
          "text": [
            "\n",
            "      Epoch    GPU_mem   box_loss   cls_loss   dfl_loss  Instances       Size\n"
          ]
        },
        {
          "name": "stderr",
          "output_type": "stream",
          "text": [
            "     61/120      2.49G      1.061     0.9662      1.006         24        640: 100%|██████████| 5/5 [00:01<00:00,  4.83it/s]\n",
            "                 Class     Images  Instances      Box(P          R      mAP50  mAP50-95): 100%|██████████| 1/1 [00:00<00:00,  4.00it/s]"
          ]
        },
        {
          "name": "stdout",
          "output_type": "stream",
          "text": [
            "                   all         10         10      0.961        0.6      0.653      0.362\n"
          ]
        },
        {
          "name": "stderr",
          "output_type": "stream",
          "text": [
            "\n"
          ]
        },
        {
          "name": "stdout",
          "output_type": "stream",
          "text": [
            "\n",
            "      Epoch    GPU_mem   box_loss   cls_loss   dfl_loss  Instances       Size\n"
          ]
        },
        {
          "name": "stderr",
          "output_type": "stream",
          "text": [
            "     62/120      2.49G      1.104     0.9849     0.9821         34        640: 100%|██████████| 5/5 [00:01<00:00,  4.63it/s]\n",
            "                 Class     Images  Instances      Box(P          R      mAP50  mAP50-95): 100%|██████████| 1/1 [00:00<00:00,  5.92it/s]"
          ]
        },
        {
          "name": "stdout",
          "output_type": "stream",
          "text": [
            "                   all         10         10      0.804        0.6      0.665       0.37\n"
          ]
        },
        {
          "name": "stderr",
          "output_type": "stream",
          "text": [
            "\n"
          ]
        },
        {
          "name": "stdout",
          "output_type": "stream",
          "text": [
            "\n",
            "      Epoch    GPU_mem   box_loss   cls_loss   dfl_loss  Instances       Size\n"
          ]
        },
        {
          "name": "stderr",
          "output_type": "stream",
          "text": [
            "     63/120      2.51G      1.101      1.016     0.9598         27        640: 100%|██████████| 5/5 [00:01<00:00,  3.99it/s]\n",
            "                 Class     Images  Instances      Box(P          R      mAP50  mAP50-95): 100%|██████████| 1/1 [00:00<00:00,  3.08it/s]"
          ]
        },
        {
          "name": "stdout",
          "output_type": "stream",
          "text": [
            "                   all         10         10      0.848        0.6      0.685      0.373\n"
          ]
        },
        {
          "name": "stderr",
          "output_type": "stream",
          "text": [
            "\n"
          ]
        },
        {
          "name": "stdout",
          "output_type": "stream",
          "text": [
            "\n",
            "      Epoch    GPU_mem   box_loss   cls_loss   dfl_loss  Instances       Size\n"
          ]
        },
        {
          "name": "stderr",
          "output_type": "stream",
          "text": [
            "     64/120      2.49G      1.117     0.9686     0.9759         32        640: 100%|██████████| 5/5 [00:01<00:00,  3.09it/s]\n",
            "                 Class     Images  Instances      Box(P          R      mAP50  mAP50-95): 100%|██████████| 1/1 [00:00<00:00,  3.42it/s]"
          ]
        },
        {
          "name": "stdout",
          "output_type": "stream",
          "text": [
            "                   all         10         10      0.857      0.599       0.71       0.38\n"
          ]
        },
        {
          "name": "stderr",
          "output_type": "stream",
          "text": [
            "\n"
          ]
        },
        {
          "name": "stdout",
          "output_type": "stream",
          "text": [
            "\n",
            "      Epoch    GPU_mem   box_loss   cls_loss   dfl_loss  Instances       Size\n"
          ]
        },
        {
          "name": "stderr",
          "output_type": "stream",
          "text": [
            "     65/120      2.49G      1.065     0.8968     0.9463         24        640: 100%|██████████| 5/5 [00:01<00:00,  3.01it/s]\n",
            "                 Class     Images  Instances      Box(P          R      mAP50  mAP50-95): 100%|██████████| 1/1 [00:00<00:00,  2.55it/s]"
          ]
        },
        {
          "name": "stdout",
          "output_type": "stream",
          "text": [
            "                   all         10         10      0.866      0.651      0.718      0.406\n"
          ]
        },
        {
          "name": "stderr",
          "output_type": "stream",
          "text": [
            "\n"
          ]
        },
        {
          "name": "stdout",
          "output_type": "stream",
          "text": [
            "\n",
            "      Epoch    GPU_mem   box_loss   cls_loss   dfl_loss  Instances       Size\n"
          ]
        },
        {
          "name": "stderr",
          "output_type": "stream",
          "text": [
            "     66/120      2.49G     0.9863     0.9052      0.926         36        640: 100%|██████████| 5/5 [00:01<00:00,  4.36it/s]\n",
            "                 Class     Images  Instances      Box(P          R      mAP50  mAP50-95): 100%|██████████| 1/1 [00:00<00:00,  5.55it/s]"
          ]
        },
        {
          "name": "stdout",
          "output_type": "stream",
          "text": [
            "                   all         10         10      0.758        0.6      0.703      0.389\n"
          ]
        },
        {
          "name": "stderr",
          "output_type": "stream",
          "text": [
            "\n"
          ]
        },
        {
          "name": "stdout",
          "output_type": "stream",
          "text": [
            "\n",
            "      Epoch    GPU_mem   box_loss   cls_loss   dfl_loss  Instances       Size\n"
          ]
        },
        {
          "name": "stderr",
          "output_type": "stream",
          "text": [
            "     67/120      2.49G       1.06     0.8916     0.9579         34        640: 100%|██████████| 5/5 [00:01<00:00,  4.76it/s]\n",
            "                 Class     Images  Instances      Box(P          R      mAP50  mAP50-95): 100%|██████████| 1/1 [00:00<00:00,  7.51it/s]"
          ]
        },
        {
          "name": "stdout",
          "output_type": "stream",
          "text": [
            "                   all         10         10      0.777        0.6      0.702      0.403\n"
          ]
        },
        {
          "name": "stderr",
          "output_type": "stream",
          "text": [
            "\n"
          ]
        },
        {
          "name": "stdout",
          "output_type": "stream",
          "text": [
            "\n",
            "      Epoch    GPU_mem   box_loss   cls_loss   dfl_loss  Instances       Size\n"
          ]
        },
        {
          "name": "stderr",
          "output_type": "stream",
          "text": [
            "     68/120      2.49G     0.9939     0.9245     0.9977         27        640: 100%|██████████| 5/5 [00:01<00:00,  4.87it/s]\n",
            "                 Class     Images  Instances      Box(P          R      mAP50  mAP50-95): 100%|██████████| 1/1 [00:00<00:00,  5.77it/s]"
          ]
        },
        {
          "name": "stdout",
          "output_type": "stream",
          "text": [
            "                   all         10         10      0.687        0.7      0.702      0.375\n"
          ]
        },
        {
          "name": "stderr",
          "output_type": "stream",
          "text": [
            "\n"
          ]
        },
        {
          "name": "stdout",
          "output_type": "stream",
          "text": [
            "\n",
            "      Epoch    GPU_mem   box_loss   cls_loss   dfl_loss  Instances       Size\n"
          ]
        },
        {
          "name": "stderr",
          "output_type": "stream",
          "text": [
            "     69/120      2.49G     0.9436     0.8447     0.9346         40        640: 100%|██████████| 5/5 [00:01<00:00,  4.65it/s]\n",
            "                 Class     Images  Instances      Box(P          R      mAP50  mAP50-95): 100%|██████████| 1/1 [00:00<00:00,  4.74it/s]"
          ]
        },
        {
          "name": "stdout",
          "output_type": "stream",
          "text": [
            "                   all         10         10          1      0.576       0.74      0.386\n"
          ]
        },
        {
          "name": "stderr",
          "output_type": "stream",
          "text": [
            "\n"
          ]
        },
        {
          "name": "stdout",
          "output_type": "stream",
          "text": [
            "\n",
            "      Epoch    GPU_mem   box_loss   cls_loss   dfl_loss  Instances       Size\n"
          ]
        },
        {
          "name": "stderr",
          "output_type": "stream",
          "text": [
            "     70/120      2.49G      1.024     0.8817     0.9461         26        640: 100%|██████████| 5/5 [00:01<00:00,  4.73it/s]\n",
            "                 Class     Images  Instances      Box(P          R      mAP50  mAP50-95): 100%|██████████| 1/1 [00:00<00:00,  4.43it/s]"
          ]
        },
        {
          "name": "stdout",
          "output_type": "stream",
          "text": [
            "                   all         10         10      0.856      0.594      0.744      0.322\n"
          ]
        },
        {
          "name": "stderr",
          "output_type": "stream",
          "text": [
            "\n"
          ]
        },
        {
          "name": "stdout",
          "output_type": "stream",
          "text": [
            "\n",
            "      Epoch    GPU_mem   box_loss   cls_loss   dfl_loss  Instances       Size\n"
          ]
        },
        {
          "name": "stderr",
          "output_type": "stream",
          "text": [
            "     71/120      2.49G      1.012     0.9333      0.977         33        640: 100%|██████████| 5/5 [00:01<00:00,  3.30it/s]\n",
            "                 Class     Images  Instances      Box(P          R      mAP50  mAP50-95): 100%|██████████| 1/1 [00:00<00:00,  3.26it/s]"
          ]
        },
        {
          "name": "stdout",
          "output_type": "stream",
          "text": [
            "                   all         10         10      0.852        0.7      0.769      0.358\n"
          ]
        },
        {
          "name": "stderr",
          "output_type": "stream",
          "text": [
            "\n"
          ]
        },
        {
          "name": "stdout",
          "output_type": "stream",
          "text": [
            "\n",
            "      Epoch    GPU_mem   box_loss   cls_loss   dfl_loss  Instances       Size\n"
          ]
        },
        {
          "name": "stderr",
          "output_type": "stream",
          "text": [
            "     72/120      2.49G     0.9963     0.9103     0.9601         22        640: 100%|██████████| 5/5 [00:01<00:00,  2.70it/s]\n",
            "                 Class     Images  Instances      Box(P          R      mAP50  mAP50-95): 100%|██████████| 1/1 [00:00<00:00,  2.88it/s]"
          ]
        },
        {
          "name": "stdout",
          "output_type": "stream",
          "text": [
            "                   all         10         10      0.785        0.8      0.798      0.414\n"
          ]
        },
        {
          "name": "stderr",
          "output_type": "stream",
          "text": [
            "\n"
          ]
        },
        {
          "name": "stdout",
          "output_type": "stream",
          "text": [
            "\n",
            "      Epoch    GPU_mem   box_loss   cls_loss   dfl_loss  Instances       Size\n"
          ]
        },
        {
          "name": "stderr",
          "output_type": "stream",
          "text": [
            "     73/120      2.49G      1.009     0.8932     0.9653         33        640: 100%|██████████| 5/5 [00:01<00:00,  3.85it/s]\n",
            "                 Class     Images  Instances      Box(P          R      mAP50  mAP50-95): 100%|██████████| 1/1 [00:00<00:00,  8.82it/s]"
          ]
        },
        {
          "name": "stdout",
          "output_type": "stream",
          "text": [
            "                   all         10         10      0.744        0.8      0.792      0.407\n"
          ]
        },
        {
          "name": "stderr",
          "output_type": "stream",
          "text": [
            "\n"
          ]
        },
        {
          "name": "stdout",
          "output_type": "stream",
          "text": [
            "\n",
            "      Epoch    GPU_mem   box_loss   cls_loss   dfl_loss  Instances       Size\n"
          ]
        },
        {
          "name": "stderr",
          "output_type": "stream",
          "text": [
            "     74/120      2.49G      1.096      0.921     0.9902         31        640: 100%|██████████| 5/5 [00:01<00:00,  4.68it/s]\n",
            "                 Class     Images  Instances      Box(P          R      mAP50  mAP50-95): 100%|██████████| 1/1 [00:00<00:00,  5.25it/s]"
          ]
        },
        {
          "name": "stdout",
          "output_type": "stream",
          "text": [
            "                   all         10         10          1       0.58      0.787      0.417\n"
          ]
        },
        {
          "name": "stderr",
          "output_type": "stream",
          "text": [
            "\n"
          ]
        },
        {
          "name": "stdout",
          "output_type": "stream",
          "text": [
            "\n",
            "      Epoch    GPU_mem   box_loss   cls_loss   dfl_loss  Instances       Size\n"
          ]
        },
        {
          "name": "stderr",
          "output_type": "stream",
          "text": [
            "     75/120      2.49G      0.963     0.8203     0.9727         29        640: 100%|██████████| 5/5 [00:01<00:00,  4.71it/s]\n",
            "                 Class     Images  Instances      Box(P          R      mAP50  mAP50-95): 100%|██████████| 1/1 [00:00<00:00,  4.79it/s]"
          ]
        },
        {
          "name": "stdout",
          "output_type": "stream",
          "text": [
            "                   all         10         10      0.969        0.6       0.78      0.402\n"
          ]
        },
        {
          "name": "stderr",
          "output_type": "stream",
          "text": [
            "\n"
          ]
        },
        {
          "name": "stdout",
          "output_type": "stream",
          "text": [
            "\n",
            "      Epoch    GPU_mem   box_loss   cls_loss   dfl_loss  Instances       Size\n"
          ]
        },
        {
          "name": "stderr",
          "output_type": "stream",
          "text": [
            "     76/120      2.49G     0.9647     0.8345     0.9527         26        640: 100%|██████████| 5/5 [00:01<00:00,  4.70it/s]\n",
            "                 Class     Images  Instances      Box(P          R      mAP50  mAP50-95): 100%|██████████| 1/1 [00:00<00:00,  4.55it/s]"
          ]
        },
        {
          "name": "stdout",
          "output_type": "stream",
          "text": [
            "                   all         10         10      0.564      0.776      0.729      0.362\n"
          ]
        },
        {
          "name": "stderr",
          "output_type": "stream",
          "text": [
            "\n"
          ]
        },
        {
          "name": "stdout",
          "output_type": "stream",
          "text": [
            "\n",
            "      Epoch    GPU_mem   box_loss   cls_loss   dfl_loss  Instances       Size\n"
          ]
        },
        {
          "name": "stderr",
          "output_type": "stream",
          "text": [
            "     77/120      2.49G      1.049     0.8676     0.9455         33        640: 100%|██████████| 5/5 [00:01<00:00,  4.72it/s]\n",
            "                 Class     Images  Instances      Box(P          R      mAP50  mAP50-95): 100%|██████████| 1/1 [00:00<00:00,  4.60it/s]"
          ]
        },
        {
          "name": "stdout",
          "output_type": "stream",
          "text": [
            "                   all         10         10      0.776      0.693      0.712      0.348\n"
          ]
        },
        {
          "name": "stderr",
          "output_type": "stream",
          "text": [
            "\n"
          ]
        },
        {
          "name": "stdout",
          "output_type": "stream",
          "text": [
            "\n",
            "      Epoch    GPU_mem   box_loss   cls_loss   dfl_loss  Instances       Size\n"
          ]
        },
        {
          "name": "stderr",
          "output_type": "stream",
          "text": [
            "     78/120      2.49G     0.9296      0.792     0.9191         34        640: 100%|██████████| 5/5 [00:01<00:00,  3.33it/s]\n",
            "                 Class     Images  Instances      Box(P          R      mAP50  mAP50-95): 100%|██████████| 1/1 [00:00<00:00,  4.67it/s]"
          ]
        },
        {
          "name": "stdout",
          "output_type": "stream",
          "text": [
            "                   all         10         10      0.778      0.699      0.727      0.356\n"
          ]
        },
        {
          "name": "stderr",
          "output_type": "stream",
          "text": [
            "\n"
          ]
        },
        {
          "name": "stdout",
          "output_type": "stream",
          "text": [
            "\n",
            "      Epoch    GPU_mem   box_loss   cls_loss   dfl_loss  Instances       Size\n"
          ]
        },
        {
          "name": "stderr",
          "output_type": "stream",
          "text": [
            "     79/120      2.49G     0.8843      0.773     0.9203         31        640: 100%|██████████| 5/5 [00:01<00:00,  3.65it/s]\n",
            "                 Class     Images  Instances      Box(P          R      mAP50  mAP50-95): 100%|██████████| 1/1 [00:00<00:00,  3.08it/s]"
          ]
        },
        {
          "name": "stdout",
          "output_type": "stream",
          "text": [
            "                   all         10         10      0.777      0.697      0.706      0.344\n"
          ]
        },
        {
          "name": "stderr",
          "output_type": "stream",
          "text": [
            "\n"
          ]
        },
        {
          "name": "stdout",
          "output_type": "stream",
          "text": [
            "\n",
            "      Epoch    GPU_mem   box_loss   cls_loss   dfl_loss  Instances       Size\n"
          ]
        },
        {
          "name": "stderr",
          "output_type": "stream",
          "text": [
            "     80/120      2.49G      0.865      0.801     0.9041         28        640: 100%|██████████| 5/5 [00:01<00:00,  2.87it/s]\n",
            "                 Class     Images  Instances      Box(P          R      mAP50  mAP50-95): 100%|██████████| 1/1 [00:00<00:00,  2.91it/s]"
          ]
        },
        {
          "name": "stdout",
          "output_type": "stream",
          "text": [
            "                   all         10         10      0.873      0.689      0.725      0.353\n"
          ]
        },
        {
          "name": "stderr",
          "output_type": "stream",
          "text": [
            "\n"
          ]
        },
        {
          "name": "stdout",
          "output_type": "stream",
          "text": [
            "\n",
            "      Epoch    GPU_mem   box_loss   cls_loss   dfl_loss  Instances       Size\n"
          ]
        },
        {
          "name": "stderr",
          "output_type": "stream",
          "text": [
            "     81/120      2.49G     0.8718     0.7652     0.9029         26        640: 100%|██████████| 5/5 [00:01<00:00,  4.53it/s]\n",
            "                 Class     Images  Instances      Box(P          R      mAP50  mAP50-95): 100%|██████████| 1/1 [00:00<00:00,  5.62it/s]"
          ]
        },
        {
          "name": "stdout",
          "output_type": "stream",
          "text": [
            "                   all         10         10      0.834        0.7      0.735      0.382\n"
          ]
        },
        {
          "name": "stderr",
          "output_type": "stream",
          "text": [
            "\n"
          ]
        },
        {
          "name": "stdout",
          "output_type": "stream",
          "text": [
            "\n",
            "      Epoch    GPU_mem   box_loss   cls_loss   dfl_loss  Instances       Size\n"
          ]
        },
        {
          "name": "stderr",
          "output_type": "stream",
          "text": [
            "     82/120      2.51G     0.8581     0.7668     0.9208         41        640: 100%|██████████| 5/5 [00:01<00:00,  4.62it/s]\n",
            "                 Class     Images  Instances      Box(P          R      mAP50  mAP50-95): 100%|██████████| 1/1 [00:00<00:00,  5.90it/s]"
          ]
        },
        {
          "name": "stdout",
          "output_type": "stream",
          "text": [
            "                   all         10         10      0.676        0.7      0.706      0.372\n"
          ]
        },
        {
          "name": "stderr",
          "output_type": "stream",
          "text": [
            "\n"
          ]
        },
        {
          "name": "stdout",
          "output_type": "stream",
          "text": [
            "\n",
            "      Epoch    GPU_mem   box_loss   cls_loss   dfl_loss  Instances       Size\n"
          ]
        },
        {
          "name": "stderr",
          "output_type": "stream",
          "text": [
            "     83/120      2.49G     0.8344      0.754      0.869         24        640: 100%|██████████| 5/5 [00:01<00:00,  4.72it/s]\n",
            "                 Class     Images  Instances      Box(P          R      mAP50  mAP50-95): 100%|██████████| 1/1 [00:00<00:00,  6.85it/s]"
          ]
        },
        {
          "name": "stdout",
          "output_type": "stream",
          "text": [
            "                   all         10         10      0.688        0.7      0.716      0.399\n"
          ]
        },
        {
          "name": "stderr",
          "output_type": "stream",
          "text": [
            "\n"
          ]
        },
        {
          "name": "stdout",
          "output_type": "stream",
          "text": [
            "\n",
            "      Epoch    GPU_mem   box_loss   cls_loss   dfl_loss  Instances       Size\n"
          ]
        },
        {
          "name": "stderr",
          "output_type": "stream",
          "text": [
            "     84/120      2.49G     0.9119     0.8129     0.9015         23        640: 100%|██████████| 5/5 [00:01<00:00,  4.19it/s]\n",
            "                 Class     Images  Instances      Box(P          R      mAP50  mAP50-95): 100%|██████████| 1/1 [00:00<00:00,  5.01it/s]"
          ]
        },
        {
          "name": "stdout",
          "output_type": "stream",
          "text": [
            "                   all         10         10      0.852        0.6      0.709      0.382\n"
          ]
        },
        {
          "name": "stderr",
          "output_type": "stream",
          "text": [
            "\n"
          ]
        },
        {
          "name": "stdout",
          "output_type": "stream",
          "text": [
            "\n",
            "      Epoch    GPU_mem   box_loss   cls_loss   dfl_loss  Instances       Size\n"
          ]
        },
        {
          "name": "stderr",
          "output_type": "stream",
          "text": [
            "     85/120      2.49G     0.8915     0.8044      0.932         30        640: 100%|██████████| 5/5 [00:01<00:00,  4.40it/s]\n",
            "                 Class     Images  Instances      Box(P          R      mAP50  mAP50-95): 100%|██████████| 1/1 [00:00<00:00, 11.15it/s]"
          ]
        },
        {
          "name": "stdout",
          "output_type": "stream",
          "text": [
            "                   all         10         10      0.758       0.63      0.719      0.366\n"
          ]
        },
        {
          "name": "stderr",
          "output_type": "stream",
          "text": [
            "\n"
          ]
        },
        {
          "name": "stdout",
          "output_type": "stream",
          "text": [
            "\n",
            "      Epoch    GPU_mem   box_loss   cls_loss   dfl_loss  Instances       Size\n"
          ]
        },
        {
          "name": "stderr",
          "output_type": "stream",
          "text": [
            "     86/120      2.49G     0.8963     0.7685     0.9027         23        640: 100%|██████████| 5/5 [00:01<00:00,  3.04it/s]\n",
            "                 Class     Images  Instances      Box(P          R      mAP50  mAP50-95): 100%|██████████| 1/1 [00:00<00:00,  4.28it/s]"
          ]
        },
        {
          "name": "stdout",
          "output_type": "stream",
          "text": [
            "                   all         10         10      0.746        0.7      0.722      0.374\n"
          ]
        },
        {
          "name": "stderr",
          "output_type": "stream",
          "text": [
            "\n"
          ]
        },
        {
          "name": "stdout",
          "output_type": "stream",
          "text": [
            "\n",
            "      Epoch    GPU_mem   box_loss   cls_loss   dfl_loss  Instances       Size\n"
          ]
        },
        {
          "name": "stderr",
          "output_type": "stream",
          "text": [
            "     87/120      2.49G     0.9232     0.7721     0.9017         33        640: 100%|██████████| 5/5 [00:01<00:00,  3.04it/s]\n",
            "                 Class     Images  Instances      Box(P          R      mAP50  mAP50-95): 100%|██████████| 1/1 [00:00<00:00,  4.27it/s]"
          ]
        },
        {
          "name": "stdout",
          "output_type": "stream",
          "text": [
            "                   all         10         10      0.759        0.7      0.737      0.375\n"
          ]
        },
        {
          "name": "stderr",
          "output_type": "stream",
          "text": [
            "\n"
          ]
        },
        {
          "name": "stdout",
          "output_type": "stream",
          "text": [
            "\n",
            "      Epoch    GPU_mem   box_loss   cls_loss   dfl_loss  Instances       Size\n"
          ]
        },
        {
          "name": "stderr",
          "output_type": "stream",
          "text": [
            "     88/120      2.49G     0.8068     0.7353     0.8965         32        640: 100%|██████████| 5/5 [00:01<00:00,  2.68it/s]\n",
            "                 Class     Images  Instances      Box(P          R      mAP50  mAP50-95): 100%|██████████| 1/1 [00:00<00:00,  3.11it/s]"
          ]
        },
        {
          "name": "stdout",
          "output_type": "stream",
          "text": [
            "                   all         10         10      0.852      0.577      0.691      0.344\n"
          ]
        },
        {
          "name": "stderr",
          "output_type": "stream",
          "text": [
            "\n"
          ]
        },
        {
          "name": "stdout",
          "output_type": "stream",
          "text": [
            "\n",
            "      Epoch    GPU_mem   box_loss   cls_loss   dfl_loss  Instances       Size\n"
          ]
        },
        {
          "name": "stderr",
          "output_type": "stream",
          "text": [
            "     89/120      2.49G     0.8681     0.7495     0.9314         29        640: 100%|██████████| 5/5 [00:01<00:00,  4.70it/s]\n",
            "                 Class     Images  Instances      Box(P          R      mAP50  mAP50-95): 100%|██████████| 1/1 [00:00<00:00,  4.52it/s]"
          ]
        },
        {
          "name": "stdout",
          "output_type": "stream",
          "text": [
            "                   all         10         10      0.793        0.5      0.682      0.353\n"
          ]
        },
        {
          "name": "stderr",
          "output_type": "stream",
          "text": [
            "\n"
          ]
        },
        {
          "name": "stdout",
          "output_type": "stream",
          "text": [
            "\n",
            "      Epoch    GPU_mem   box_loss   cls_loss   dfl_loss  Instances       Size\n"
          ]
        },
        {
          "name": "stderr",
          "output_type": "stream",
          "text": [
            "     90/120      2.49G     0.9006     0.7827     0.9066         34        640: 100%|██████████| 5/5 [00:01<00:00,  4.58it/s]\n",
            "                 Class     Images  Instances      Box(P          R      mAP50  mAP50-95): 100%|██████████| 1/1 [00:00<00:00,  6.25it/s]"
          ]
        },
        {
          "name": "stdout",
          "output_type": "stream",
          "text": [
            "                   all         10         10      0.692      0.676      0.683      0.347\n"
          ]
        },
        {
          "name": "stderr",
          "output_type": "stream",
          "text": [
            "\n"
          ]
        },
        {
          "name": "stdout",
          "output_type": "stream",
          "text": [
            "\n",
            "      Epoch    GPU_mem   box_loss   cls_loss   dfl_loss  Instances       Size\n"
          ]
        },
        {
          "name": "stderr",
          "output_type": "stream",
          "text": [
            "     91/120      2.51G     0.8183     0.7285     0.8956         30        640: 100%|██████████| 5/5 [00:01<00:00,  4.96it/s]\n",
            "                 Class     Images  Instances      Box(P          R      mAP50  mAP50-95): 100%|██████████| 1/1 [00:00<00:00,  4.39it/s]"
          ]
        },
        {
          "name": "stdout",
          "output_type": "stream",
          "text": [
            "                   all         10         10      0.693       0.68      0.676      0.363\n"
          ]
        },
        {
          "name": "stderr",
          "output_type": "stream",
          "text": [
            "\n"
          ]
        },
        {
          "name": "stdout",
          "output_type": "stream",
          "text": [
            "\n",
            "      Epoch    GPU_mem   box_loss   cls_loss   dfl_loss  Instances       Size\n"
          ]
        },
        {
          "name": "stderr",
          "output_type": "stream",
          "text": [
            "     92/120      2.49G     0.8587     0.7365      0.898         38        640: 100%|██████████| 5/5 [00:01<00:00,  4.86it/s]\n",
            "                 Class     Images  Instances      Box(P          R      mAP50  mAP50-95): 100%|██████████| 1/1 [00:00<00:00,  4.58it/s]"
          ]
        },
        {
          "name": "stdout",
          "output_type": "stream",
          "text": [
            "                   all         10         10      0.609        0.8      0.707      0.366\n"
          ]
        },
        {
          "name": "stderr",
          "output_type": "stream",
          "text": [
            "\n"
          ]
        },
        {
          "name": "stdout",
          "output_type": "stream",
          "text": [
            "\n",
            "      Epoch    GPU_mem   box_loss   cls_loss   dfl_loss  Instances       Size\n"
          ]
        },
        {
          "name": "stderr",
          "output_type": "stream",
          "text": [
            "     93/120      2.49G      0.808     0.7623     0.8913         25        640: 100%|██████████| 5/5 [00:01<00:00,  4.61it/s]\n",
            "                 Class     Images  Instances      Box(P          R      mAP50  mAP50-95): 100%|██████████| 1/1 [00:00<00:00,  4.51it/s]"
          ]
        },
        {
          "name": "stdout",
          "output_type": "stream",
          "text": [
            "                   all         10         10      0.642        0.8      0.704       0.36\n"
          ]
        },
        {
          "name": "stderr",
          "output_type": "stream",
          "text": [
            "\n"
          ]
        },
        {
          "name": "stdout",
          "output_type": "stream",
          "text": [
            "\n",
            "      Epoch    GPU_mem   box_loss   cls_loss   dfl_loss  Instances       Size\n"
          ]
        },
        {
          "name": "stderr",
          "output_type": "stream",
          "text": [
            "     94/120      2.49G     0.8131     0.7258     0.9137         29        640: 100%|██████████| 5/5 [00:01<00:00,  3.50it/s]\n",
            "                 Class     Images  Instances      Box(P          R      mAP50  mAP50-95): 100%|██████████| 1/1 [00:00<00:00,  3.24it/s]"
          ]
        },
        {
          "name": "stdout",
          "output_type": "stream",
          "text": [
            "                   all         10         10      0.784      0.728      0.715      0.371\n"
          ]
        },
        {
          "name": "stderr",
          "output_type": "stream",
          "text": [
            "\n"
          ]
        },
        {
          "name": "stdout",
          "output_type": "stream",
          "text": [
            "\n",
            "      Epoch    GPU_mem   box_loss   cls_loss   dfl_loss  Instances       Size\n"
          ]
        },
        {
          "name": "stderr",
          "output_type": "stream",
          "text": [
            "     95/120      2.49G     0.9035     0.7838     0.9344         23        640: 100%|██████████| 5/5 [00:01<00:00,  3.40it/s]\n",
            "                 Class     Images  Instances      Box(P          R      mAP50  mAP50-95): 100%|██████████| 1/1 [00:00<00:00,  2.47it/s]"
          ]
        },
        {
          "name": "stdout",
          "output_type": "stream",
          "text": [
            "                   all         10         10       0.71      0.738       0.71      0.365\n"
          ]
        },
        {
          "name": "stderr",
          "output_type": "stream",
          "text": [
            "\n"
          ]
        },
        {
          "name": "stdout",
          "output_type": "stream",
          "text": [
            "\n",
            "      Epoch    GPU_mem   box_loss   cls_loss   dfl_loss  Instances       Size\n"
          ]
        },
        {
          "name": "stderr",
          "output_type": "stream",
          "text": [
            "     96/120      2.49G     0.8784     0.7735     0.9132         31        640: 100%|██████████| 5/5 [00:01<00:00,  3.71it/s]\n",
            "                 Class     Images  Instances      Box(P          R      mAP50  mAP50-95): 100%|██████████| 1/1 [00:00<00:00,  4.22it/s]"
          ]
        },
        {
          "name": "stdout",
          "output_type": "stream",
          "text": [
            "                   all         10         10      0.605        0.8      0.711      0.393\n"
          ]
        },
        {
          "name": "stderr",
          "output_type": "stream",
          "text": [
            "\n"
          ]
        },
        {
          "name": "stdout",
          "output_type": "stream",
          "text": [
            "\n",
            "      Epoch    GPU_mem   box_loss   cls_loss   dfl_loss  Instances       Size\n"
          ]
        },
        {
          "name": "stderr",
          "output_type": "stream",
          "text": [
            "     97/120      2.49G     0.7868     0.6867     0.8979         31        640: 100%|██████████| 5/5 [00:00<00:00,  5.29it/s]\n",
            "                 Class     Images  Instances      Box(P          R      mAP50  mAP50-95): 100%|██████████| 1/1 [00:00<00:00,  5.61it/s]"
          ]
        },
        {
          "name": "stdout",
          "output_type": "stream",
          "text": [
            "                   all         10         10      0.636        0.8      0.717      0.391\n"
          ]
        },
        {
          "name": "stderr",
          "output_type": "stream",
          "text": [
            "\n"
          ]
        },
        {
          "name": "stdout",
          "output_type": "stream",
          "text": [
            "\n",
            "      Epoch    GPU_mem   box_loss   cls_loss   dfl_loss  Instances       Size\n"
          ]
        },
        {
          "name": "stderr",
          "output_type": "stream",
          "text": [
            "     98/120      2.51G     0.8111     0.7342      0.904         30        640: 100%|██████████| 5/5 [00:01<00:00,  4.56it/s]\n",
            "                 Class     Images  Instances      Box(P          R      mAP50  mAP50-95): 100%|██████████| 1/1 [00:00<00:00,  5.61it/s]"
          ]
        },
        {
          "name": "stdout",
          "output_type": "stream",
          "text": [
            "                   all         10         10      0.644        0.8      0.734      0.406\n"
          ]
        },
        {
          "name": "stderr",
          "output_type": "stream",
          "text": [
            "\n"
          ]
        },
        {
          "name": "stdout",
          "output_type": "stream",
          "text": [
            "\n",
            "      Epoch    GPU_mem   box_loss   cls_loss   dfl_loss  Instances       Size\n"
          ]
        },
        {
          "name": "stderr",
          "output_type": "stream",
          "text": [
            "     99/120      2.49G     0.7877     0.6819     0.9133         29        640: 100%|██████████| 5/5 [00:01<00:00,  4.98it/s]\n",
            "                 Class     Images  Instances      Box(P          R      mAP50  mAP50-95): 100%|██████████| 1/1 [00:00<00:00,  4.97it/s]"
          ]
        },
        {
          "name": "stdout",
          "output_type": "stream",
          "text": [
            "                   all         10         10      0.705        0.8      0.763        0.4\n"
          ]
        },
        {
          "name": "stderr",
          "output_type": "stream",
          "text": [
            "\n"
          ]
        },
        {
          "name": "stdout",
          "output_type": "stream",
          "text": [
            "\n",
            "      Epoch    GPU_mem   box_loss   cls_loss   dfl_loss  Instances       Size\n"
          ]
        },
        {
          "name": "stderr",
          "output_type": "stream",
          "text": [
            "    100/120      2.49G     0.7713     0.6844     0.8794         32        640: 100%|██████████| 5/5 [00:01<00:00,  4.50it/s]\n",
            "                 Class     Images  Instances      Box(P          R      mAP50  mAP50-95): 100%|██████████| 1/1 [00:00<00:00,  9.01it/s]"
          ]
        },
        {
          "name": "stdout",
          "output_type": "stream",
          "text": [
            "                   all         10         10      0.837        0.8      0.807      0.452\n"
          ]
        },
        {
          "name": "stderr",
          "output_type": "stream",
          "text": [
            "\n"
          ]
        },
        {
          "name": "stdout",
          "output_type": "stream",
          "text": [
            "\n",
            "      Epoch    GPU_mem   box_loss   cls_loss   dfl_loss  Instances       Size\n"
          ]
        },
        {
          "name": "stderr",
          "output_type": "stream",
          "text": [
            "    101/120      2.49G      0.739     0.6672     0.9015         24        640: 100%|██████████| 5/5 [00:01<00:00,  3.74it/s]\n",
            "                 Class     Images  Instances      Box(P          R      mAP50  mAP50-95): 100%|██████████| 1/1 [00:00<00:00,  3.07it/s]"
          ]
        },
        {
          "name": "stdout",
          "output_type": "stream",
          "text": [
            "                   all         10         10       0.86        0.8      0.812      0.435\n"
          ]
        },
        {
          "name": "stderr",
          "output_type": "stream",
          "text": [
            "\n"
          ]
        },
        {
          "name": "stdout",
          "output_type": "stream",
          "text": [
            "\n",
            "      Epoch    GPU_mem   box_loss   cls_loss   dfl_loss  Instances       Size\n"
          ]
        },
        {
          "name": "stderr",
          "output_type": "stream",
          "text": [
            "    102/120      2.49G     0.7375     0.7044     0.9011         25        640: 100%|██████████| 5/5 [00:01<00:00,  3.47it/s]\n",
            "                 Class     Images  Instances      Box(P          R      mAP50  mAP50-95): 100%|██████████| 1/1 [00:00<00:00,  2.70it/s]"
          ]
        },
        {
          "name": "stdout",
          "output_type": "stream",
          "text": [
            "                   all         10         10      0.879        0.8      0.812      0.441\n"
          ]
        },
        {
          "name": "stderr",
          "output_type": "stream",
          "text": [
            "\n"
          ]
        },
        {
          "name": "stdout",
          "output_type": "stream",
          "text": [
            "\n",
            "      Epoch    GPU_mem   box_loss   cls_loss   dfl_loss  Instances       Size\n"
          ]
        },
        {
          "name": "stderr",
          "output_type": "stream",
          "text": [
            "    103/120      2.51G     0.8327      0.722     0.9083         27        640: 100%|██████████| 5/5 [00:01<00:00,  3.21it/s]\n",
            "                 Class     Images  Instances      Box(P          R      mAP50  mAP50-95): 100%|██████████| 1/1 [00:00<00:00,  2.77it/s]"
          ]
        },
        {
          "name": "stdout",
          "output_type": "stream",
          "text": [
            "                   all         10         10      0.889      0.798      0.815      0.445\n"
          ]
        },
        {
          "name": "stderr",
          "output_type": "stream",
          "text": [
            "\n"
          ]
        },
        {
          "name": "stdout",
          "output_type": "stream",
          "text": [
            "\n",
            "      Epoch    GPU_mem   box_loss   cls_loss   dfl_loss  Instances       Size\n"
          ]
        },
        {
          "name": "stderr",
          "output_type": "stream",
          "text": [
            "    104/120      2.49G     0.8123     0.7085     0.8956         27        640: 100%|██████████| 5/5 [00:01<00:00,  4.59it/s]\n",
            "                 Class     Images  Instances      Box(P          R      mAP50  mAP50-95): 100%|██████████| 1/1 [00:00<00:00,  3.81it/s]"
          ]
        },
        {
          "name": "stdout",
          "output_type": "stream",
          "text": [
            "                   all         10         10      0.888      0.791      0.821      0.436\n"
          ]
        },
        {
          "name": "stderr",
          "output_type": "stream",
          "text": [
            "\n"
          ]
        },
        {
          "name": "stdout",
          "output_type": "stream",
          "text": [
            "\n",
            "      Epoch    GPU_mem   box_loss   cls_loss   dfl_loss  Instances       Size\n"
          ]
        },
        {
          "name": "stderr",
          "output_type": "stream",
          "text": [
            "    105/120      2.51G     0.7497     0.6929     0.8828         29        640: 100%|██████████| 5/5 [00:01<00:00,  4.63it/s]\n",
            "                 Class     Images  Instances      Box(P          R      mAP50  mAP50-95): 100%|██████████| 1/1 [00:00<00:00,  4.11it/s]"
          ]
        },
        {
          "name": "stdout",
          "output_type": "stream",
          "text": [
            "                   all         10         10      0.887      0.785      0.821      0.436\n"
          ]
        },
        {
          "name": "stderr",
          "output_type": "stream",
          "text": [
            "\n"
          ]
        },
        {
          "name": "stdout",
          "output_type": "stream",
          "text": [
            "\n",
            "      Epoch    GPU_mem   box_loss   cls_loss   dfl_loss  Instances       Size\n"
          ]
        },
        {
          "name": "stderr",
          "output_type": "stream",
          "text": [
            "    106/120      2.49G     0.7367     0.6704      0.888         25        640: 100%|██████████| 5/5 [00:01<00:00,  4.50it/s]\n",
            "                 Class     Images  Instances      Box(P          R      mAP50  mAP50-95): 100%|██████████| 1/1 [00:00<00:00,  4.76it/s]"
          ]
        },
        {
          "name": "stdout",
          "output_type": "stream",
          "text": [
            "                   all         10         10      0.886      0.779      0.821      0.436\n"
          ]
        },
        {
          "name": "stderr",
          "output_type": "stream",
          "text": [
            "\n"
          ]
        },
        {
          "name": "stdout",
          "output_type": "stream",
          "text": [
            "\n",
            "      Epoch    GPU_mem   box_loss   cls_loss   dfl_loss  Instances       Size\n"
          ]
        },
        {
          "name": "stderr",
          "output_type": "stream",
          "text": [
            "    107/120      2.49G     0.7755     0.7009      0.889         23        640: 100%|██████████| 5/5 [00:01<00:00,  4.57it/s]\n",
            "                 Class     Images  Instances      Box(P          R      mAP50  mAP50-95): 100%|██████████| 1/1 [00:00<00:00,  5.80it/s]"
          ]
        },
        {
          "name": "stdout",
          "output_type": "stream",
          "text": [
            "                   all         10         10      0.886      0.779      0.823      0.437\n"
          ]
        },
        {
          "name": "stderr",
          "output_type": "stream",
          "text": [
            "\n"
          ]
        },
        {
          "name": "stdout",
          "output_type": "stream",
          "text": [
            "\n",
            "      Epoch    GPU_mem   box_loss   cls_loss   dfl_loss  Instances       Size\n"
          ]
        },
        {
          "name": "stderr",
          "output_type": "stream",
          "text": [
            "    108/120      2.49G     0.7887     0.6677     0.8918         39        640: 100%|██████████| 5/5 [00:01<00:00,  4.39it/s]\n",
            "                 Class     Images  Instances      Box(P          R      mAP50  mAP50-95): 100%|██████████| 1/1 [00:00<00:00,  4.09it/s]"
          ]
        },
        {
          "name": "stdout",
          "output_type": "stream",
          "text": [
            "                   all         10         10      0.874      0.692       0.81      0.412\n"
          ]
        },
        {
          "name": "stderr",
          "output_type": "stream",
          "text": [
            "\n"
          ]
        },
        {
          "name": "stdout",
          "output_type": "stream",
          "text": [
            "\n",
            "      Epoch    GPU_mem   box_loss   cls_loss   dfl_loss  Instances       Size\n"
          ]
        },
        {
          "name": "stderr",
          "output_type": "stream",
          "text": [
            "    109/120      2.49G     0.7104       0.62     0.8599         34        640: 100%|██████████| 5/5 [00:01<00:00,  3.61it/s]\n",
            "                 Class     Images  Instances      Box(P          R      mAP50  mAP50-95): 100%|██████████| 1/1 [00:00<00:00,  2.73it/s]"
          ]
        },
        {
          "name": "stdout",
          "output_type": "stream",
          "text": [
            "                   all         10         10      0.784      0.728       0.81      0.409\n"
          ]
        },
        {
          "name": "stderr",
          "output_type": "stream",
          "text": [
            "\n"
          ]
        },
        {
          "name": "stdout",
          "output_type": "stream",
          "text": [
            "\n",
            "      Epoch    GPU_mem   box_loss   cls_loss   dfl_loss  Instances       Size\n"
          ]
        },
        {
          "name": "stderr",
          "output_type": "stream",
          "text": [
            "    110/120      2.49G     0.7481     0.6348     0.9145         26        640: 100%|██████████| 5/5 [00:01<00:00,  3.05it/s]\n",
            "                 Class     Images  Instances      Box(P          R      mAP50  mAP50-95): 100%|██████████| 1/1 [00:00<00:00,  2.60it/s]"
          ]
        },
        {
          "name": "stdout",
          "output_type": "stream",
          "text": [
            "                   all         10         10       0.79        0.8      0.813      0.413\n"
          ]
        },
        {
          "name": "stderr",
          "output_type": "stream",
          "text": [
            "\n"
          ]
        },
        {
          "name": "stdout",
          "output_type": "stream",
          "text": [
            "Closing dataloader mosaic\n",
            "\u001b[34m\u001b[1malbumentations: \u001b[0mBlur(p=0.01, blur_limit=(3, 7)), MedianBlur(p=0.01, blur_limit=(3, 7)), ToGray(p=0.01, num_output_channels=3, method='weighted_average'), CLAHE(p=0.01, clip_limit=(1, 4.0), tile_grid_size=(8, 8))\n",
            "\n",
            "      Epoch    GPU_mem   box_loss   cls_loss   dfl_loss  Instances       Size\n"
          ]
        },
        {
          "name": "stderr",
          "output_type": "stream",
          "text": [
            "    111/120       2.5G     0.7226       0.69     0.8328         16        640: 100%|██████████| 5/5 [00:03<00:00,  1.37it/s]\n",
            "                 Class     Images  Instances      Box(P          R      mAP50  mAP50-95): 100%|██████████| 1/1 [00:00<00:00,  4.62it/s]"
          ]
        },
        {
          "name": "stdout",
          "output_type": "stream",
          "text": [
            "                   all         10         10      0.789      0.751      0.819      0.404\n"
          ]
        },
        {
          "name": "stderr",
          "output_type": "stream",
          "text": [
            "\n"
          ]
        },
        {
          "name": "stdout",
          "output_type": "stream",
          "text": [
            "\n",
            "      Epoch    GPU_mem   box_loss   cls_loss   dfl_loss  Instances       Size\n"
          ]
        },
        {
          "name": "stderr",
          "output_type": "stream",
          "text": [
            "    112/120      2.49G     0.7278     0.6935     0.8443         14        640: 100%|██████████| 5/5 [00:01<00:00,  4.51it/s]\n",
            "                 Class     Images  Instances      Box(P          R      mAP50  mAP50-95): 100%|██████████| 1/1 [00:00<00:00,  4.01it/s]"
          ]
        },
        {
          "name": "stdout",
          "output_type": "stream",
          "text": [
            "                   all         10         10      0.874      0.696      0.803      0.406\n"
          ]
        },
        {
          "name": "stderr",
          "output_type": "stream",
          "text": [
            "\n"
          ]
        },
        {
          "name": "stdout",
          "output_type": "stream",
          "text": [
            "\n",
            "      Epoch    GPU_mem   box_loss   cls_loss   dfl_loss  Instances       Size\n"
          ]
        },
        {
          "name": "stderr",
          "output_type": "stream",
          "text": [
            "    113/120      2.49G     0.6698     0.6739     0.8521         14        640: 100%|██████████| 5/5 [00:01<00:00,  4.78it/s]\n",
            "                 Class     Images  Instances      Box(P          R      mAP50  mAP50-95): 100%|██████████| 1/1 [00:00<00:00,  6.21it/s]"
          ]
        },
        {
          "name": "stdout",
          "output_type": "stream",
          "text": [
            "                   all         10         10      0.846        0.7      0.795      0.419\n"
          ]
        },
        {
          "name": "stderr",
          "output_type": "stream",
          "text": [
            "\n"
          ]
        },
        {
          "name": "stdout",
          "output_type": "stream",
          "text": [
            "\n",
            "      Epoch    GPU_mem   box_loss   cls_loss   dfl_loss  Instances       Size\n"
          ]
        },
        {
          "name": "stderr",
          "output_type": "stream",
          "text": [
            "    114/120       2.5G     0.6716     0.6622     0.8332         15        640: 100%|██████████| 5/5 [00:01<00:00,  4.66it/s]\n",
            "                 Class     Images  Instances      Box(P          R      mAP50  mAP50-95): 100%|██████████| 1/1 [00:00<00:00,  5.10it/s]"
          ]
        },
        {
          "name": "stdout",
          "output_type": "stream",
          "text": [
            "                   all         10         10          1      0.695      0.804      0.407\n"
          ]
        },
        {
          "name": "stderr",
          "output_type": "stream",
          "text": [
            "\n"
          ]
        },
        {
          "name": "stdout",
          "output_type": "stream",
          "text": [
            "\n",
            "      Epoch    GPU_mem   box_loss   cls_loss   dfl_loss  Instances       Size\n"
          ]
        },
        {
          "name": "stderr",
          "output_type": "stream",
          "text": [
            "    115/120      2.49G     0.6962     0.6659     0.8593         14        640: 100%|██████████| 5/5 [00:01<00:00,  3.19it/s]\n",
            "                 Class     Images  Instances      Box(P          R      mAP50  mAP50-95): 100%|██████████| 1/1 [00:00<00:00,  3.13it/s]"
          ]
        },
        {
          "name": "stdout",
          "output_type": "stream",
          "text": [
            "                   all         10         10      0.988        0.7      0.804      0.413\n"
          ]
        },
        {
          "name": "stderr",
          "output_type": "stream",
          "text": [
            "\n"
          ]
        },
        {
          "name": "stdout",
          "output_type": "stream",
          "text": [
            "\n",
            "      Epoch    GPU_mem   box_loss   cls_loss   dfl_loss  Instances       Size\n"
          ]
        },
        {
          "name": "stderr",
          "output_type": "stream",
          "text": [
            "    116/120      2.49G     0.6429      0.649     0.8256         14        640: 100%|██████████| 5/5 [00:01<00:00,  3.03it/s]\n",
            "                 Class     Images  Instances      Box(P          R      mAP50  mAP50-95): 100%|██████████| 1/1 [00:00<00:00,  3.13it/s]"
          ]
        },
        {
          "name": "stdout",
          "output_type": "stream",
          "text": [
            "                   all         10         10      0.982        0.7      0.804      0.398\n"
          ]
        },
        {
          "name": "stderr",
          "output_type": "stream",
          "text": [
            "\n"
          ]
        },
        {
          "name": "stdout",
          "output_type": "stream",
          "text": [
            "\n",
            "      Epoch    GPU_mem   box_loss   cls_loss   dfl_loss  Instances       Size\n"
          ]
        },
        {
          "name": "stderr",
          "output_type": "stream",
          "text": [
            "    117/120      2.49G     0.6643     0.6712     0.8508         16        640: 100%|██████████| 5/5 [00:01<00:00,  2.96it/s]\n",
            "                 Class     Images  Instances      Box(P          R      mAP50  mAP50-95): 100%|██████████| 1/1 [00:00<00:00,  4.54it/s]"
          ]
        },
        {
          "name": "stdout",
          "output_type": "stream",
          "text": [
            "                   all         10         10      0.981        0.7      0.807      0.417\n"
          ]
        },
        {
          "name": "stderr",
          "output_type": "stream",
          "text": [
            "\n"
          ]
        },
        {
          "name": "stdout",
          "output_type": "stream",
          "text": [
            "\n",
            "      Epoch    GPU_mem   box_loss   cls_loss   dfl_loss  Instances       Size\n"
          ]
        },
        {
          "name": "stderr",
          "output_type": "stream",
          "text": [
            "    118/120      2.49G     0.6719     0.6577     0.8296         14        640: 100%|██████████| 5/5 [00:01<00:00,  4.83it/s]\n",
            "                 Class     Images  Instances      Box(P          R      mAP50  mAP50-95): 100%|██████████| 1/1 [00:00<00:00,  5.56it/s]"
          ]
        },
        {
          "name": "stdout",
          "output_type": "stream",
          "text": [
            "                   all         10         10      0.979        0.7        0.8      0.428\n"
          ]
        },
        {
          "name": "stderr",
          "output_type": "stream",
          "text": [
            "\n"
          ]
        },
        {
          "name": "stdout",
          "output_type": "stream",
          "text": [
            "\n",
            "      Epoch    GPU_mem   box_loss   cls_loss   dfl_loss  Instances       Size\n"
          ]
        },
        {
          "name": "stderr",
          "output_type": "stream",
          "text": [
            "    119/120       2.5G     0.6233     0.6347     0.8354         15        640: 100%|██████████| 5/5 [00:01<00:00,  4.56it/s]\n",
            "                 Class     Images  Instances      Box(P          R      mAP50  mAP50-95): 100%|██████████| 1/1 [00:00<00:00,  5.19it/s]"
          ]
        },
        {
          "name": "stdout",
          "output_type": "stream",
          "text": [
            "                   all         10         10      0.979        0.7        0.8      0.425\n"
          ]
        },
        {
          "name": "stderr",
          "output_type": "stream",
          "text": [
            "\n"
          ]
        },
        {
          "name": "stdout",
          "output_type": "stream",
          "text": [
            "\n",
            "      Epoch    GPU_mem   box_loss   cls_loss   dfl_loss  Instances       Size\n"
          ]
        },
        {
          "name": "stderr",
          "output_type": "stream",
          "text": [
            "    120/120       2.5G     0.6949     0.6741     0.8675         16        640: 100%|██████████| 5/5 [00:01<00:00,  4.33it/s]\n",
            "                 Class     Images  Instances      Box(P          R      mAP50  mAP50-95): 100%|██████████| 1/1 [00:00<00:00,  7.07it/s]\n"
          ]
        },
        {
          "name": "stdout",
          "output_type": "stream",
          "text": [
            "                   all         10         10       0.98        0.7      0.798      0.407\n",
            "\n",
            "120 epochs completed in 0.086 hours.\n",
            "Optimizer stripped from runs/detect/train_detect_module2/weights/last.pt, 5.6MB\n",
            "Optimizer stripped from runs/detect/train_detect_module2/weights/best.pt, 5.6MB\n",
            "\n",
            "Validating runs/detect/train_detect_module2/weights/best.pt...\n",
            "Ultralytics 8.3.4 🚀 Python-3.10.12 torch-2.4.1+cu121 CUDA:0 (Tesla T4, 15102MiB)\n",
            "Model summary (fused): 186 layers, 2,684,563 parameters, 0 gradients, 6.8 GFLOPs\n"
          ]
        },
        {
          "name": "stderr",
          "output_type": "stream",
          "text": [
            "                 Class     Images  Instances      Box(P          R      mAP50  mAP50-95): 100%|██████████| 1/1 [00:00<00:00,  3.53it/s]\n"
          ]
        },
        {
          "name": "stdout",
          "output_type": "stream",
          "text": [
            "                   all         10         10      0.871        0.8      0.826      0.386\n",
            "Speed: 0.2ms preprocess, 23.5ms inference, 0.0ms loss, 0.8ms postprocess per image\n",
            "Results saved to \u001b[1mruns/detect/train_detect_module2\u001b[0m\n"
          ]
        }
      ],
      "source": [
        "results = model.train(data='/content/drive/MyDrive/YOLO_detection/weapon_data/data.yaml',\n",
        "        epochs=120,\n",
        "        imgsz=640,\n",
        "        batch=16,\n",
        "        name='train_detect_module',\n",
        "        freeze=[f'model.{i}' for i in range(22)],\n",
        "        augment=True)"
      ]
    },
    {
      "cell_type": "code",
      "execution_count": null,
      "metadata": {
        "colab": {
          "base_uri": "https://localhost:8080/"
        },
        "id": "lGxl7Iku7oUE",
        "outputId": "1f0755e6-f9dd-453a-8c08-84544997b0e4"
      },
      "outputs": [
        {
          "name": "stdout",
          "output_type": "stream",
          "text": [
            "Precision\t  Recall\tmAP50\t\tmAP95\n"
          ]
        },
        {
          "data": {
            "text/plain": [
              "(0.8706638262193817, 0.8, 0.8260653503295415, 0.3864305308354685)"
            ]
          },
          "execution_count": 16,
          "metadata": {},
          "output_type": "execute_result"
        }
      ],
      "source": [
        "print(\"Precision\\t  Recall\\tmAP50\\t\\tmAP95\")\n",
        "results.class_result(0)"
      ]
    },
    {
      "cell_type": "code",
      "execution_count": null,
      "metadata": {
        "colab": {
          "base_uri": "https://localhost:8080/"
        },
        "id": "96xsxCbSwcqa",
        "outputId": "264b3d30-14e4-460b-e9b6-a1ed044e10f3"
      },
      "outputs": [
        {
          "name": "stdout",
          "output_type": "stream",
          "text": [
            "\n",
            "image 1/10 /content/drive/MyDrive/YOLO_detection/weapon_data/images/test/im16.jpg: 640x640 3 Gunss, 36.7ms\n",
            "image 2/10 /content/drive/MyDrive/YOLO_detection/weapon_data/images/test/im2.jpg: 640x640 1 Guns, 24.2ms\n",
            "image 3/10 /content/drive/MyDrive/YOLO_detection/weapon_data/images/test/im31.jpg: 640x640 1 Guns, 24.1ms\n",
            "image 4/10 /content/drive/MyDrive/YOLO_detection/weapon_data/images/test/im33.jpg: 640x640 1 Guns, 24.6ms\n",
            "image 5/10 /content/drive/MyDrive/YOLO_detection/weapon_data/images/test/im45.jpg: 640x640 1 Guns, 24.6ms\n",
            "image 6/10 /content/drive/MyDrive/YOLO_detection/weapon_data/images/test/im61.jpg: 640x640 2 Gunss, 24.1ms\n",
            "image 7/10 /content/drive/MyDrive/YOLO_detection/weapon_data/images/test/im62.jpg: 640x640 2 Gunss, 24.2ms\n",
            "image 8/10 /content/drive/MyDrive/YOLO_detection/weapon_data/images/test/im64.jpg: 640x640 7 Gunss, 24.5ms\n",
            "image 9/10 /content/drive/MyDrive/YOLO_detection/weapon_data/images/test/im66.jpg: 640x640 4 Gunss, 25.1ms\n",
            "image 10/10 /content/drive/MyDrive/YOLO_detection/weapon_data/images/test/im9.jpg: 640x640 4 Gunss, 23.8ms\n",
            "Speed: 1.7ms preprocess, 25.6ms inference, 1.3ms postprocess per image at shape (1, 3, 640, 640)\n"
          ]
        }
      ],
      "source": [
        "predictions = model.predict(source=\"/content/drive/MyDrive/YOLO_detection/weapon_data/images/test\")"
      ]
    },
    {
      "cell_type": "code",
      "execution_count": null,
      "metadata": {
        "colab": {
          "base_uri": "https://localhost:8080/"
        },
        "id": "LLY4QRxLoBN6",
        "outputId": "0028c557-31ac-4121-e21d-b2a813828f28"
      },
      "outputs": [
        {
          "data": {
            "text/plain": [
              "(0.8675220133265578, 0.8, 0.8260612778998181, 0.3809739807042333)"
            ]
          },
          "execution_count": 23,
          "metadata": {},
          "output_type": "execute_result"
        }
      ],
      "source": [
        "results.class_result(0)"
      ]
    },
    {
      "cell_type": "code",
      "execution_count": null,
      "metadata": {
        "colab": {
          "background_save": true
        },
        "id": "TwV2VzeWoCxM"
      },
      "outputs": [],
      "source": [
        "for result in predictions:\n",
        "    result.show()"
      ]
    },
    {
      "cell_type": "code",
      "execution_count": null,
      "metadata": {
        "colab": {
          "base_uri": "https://localhost:8080/"
        },
        "id": "UOL95wc0EEWy",
        "outputId": "2266936f-da60-4e89-8162-ce329e10dee7"
      },
      "outputs": [
        {
          "name": "stdout",
          "output_type": "stream",
          "text": [
            "Ultralytics 8.3.4 🚀 Python-3.10.12 torch-2.4.1+cu121 CUDA:0 (Tesla T4, 15102MiB)\n"
          ]
        },
        {
          "name": "stderr",
          "output_type": "stream",
          "text": [
            "\u001b[34m\u001b[1mval: \u001b[0mScanning /content/drive/MyDrive/YOLO_detection/weapon_data/labels/val.cache... 10 images, 0 backgrounds, 0 corrupt: 100%|██████████| 10/10 [00:00<?, ?it/s]\n",
            "                 Class     Images  Instances      Box(P          R      mAP50  mAP50-95): 100%|██████████| 1/1 [00:00<00:00,  1.32it/s]\n"
          ]
        },
        {
          "name": "stdout",
          "output_type": "stream",
          "text": [
            "                   all         10         10      0.868        0.8      0.826      0.381\n",
            "Speed: 0.2ms preprocess, 34.2ms inference, 0.0ms loss, 1.2ms postprocess per image\n",
            "Results saved to \u001b[1mruns/detect/train_detect_module22\u001b[0m\n"
          ]
        },
        {
          "data": {
            "text/plain": [
              "(0.8675220133265578, 0.8, 0.8260612778998181, 0.3809739807042333)"
            ]
          },
          "execution_count": 19,
          "metadata": {},
          "output_type": "execute_result"
        }
      ],
      "source": [
        "results = model.val(data=\"/content/drive/MyDrive/YOLO_detection/weapon_data/data.yaml\")\n",
        "results.class_result(0)"
      ]
    },
    {
      "cell_type": "code",
      "execution_count": null,
      "metadata": {
        "colab": {
          "base_uri": "https://localhost:8080/"
        },
        "id": "AO3FqhvUEI7O",
        "outputId": "8bad5b38-9f4c-4241-9431-c7d257f2450a"
      },
      "outputs": [
        {
          "data": {
            "text/plain": [
              "(0.8675220133265578, 0.8, 0.8260612778998181, 0.3809739807042333)"
            ]
          },
          "execution_count": 20,
          "metadata": {},
          "output_type": "execute_result"
        }
      ],
      "source": [
        "results.class_result(0)"
      ]
    },
    {
      "cell_type": "code",
      "execution_count": null,
      "metadata": {
        "collapsed": true,
        "id": "Ao2JMdE3ubzv"
      },
      "outputs": [],
      "source": [
        "for result in predictions:\n",
        "    result.show()\n"
      ]
    },
    {
      "cell_type": "code",
      "execution_count": null,
      "metadata": {
        "id": "GfB_YC1ovOcJ"
      },
      "outputs": [],
      "source": []
    }
  ],
  "metadata": {
    "accelerator": "GPU",
    "colab": {
      "gpuType": "T4",
      "provenance": []
    },
    "kernelspec": {
      "display_name": "Python 3",
      "name": "python3"
    },
    "language_info": {
      "name": "python"
    }
  },
  "nbformat": 4,
  "nbformat_minor": 0
}
